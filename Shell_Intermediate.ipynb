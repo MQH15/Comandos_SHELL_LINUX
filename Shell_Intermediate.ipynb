{
 "cells": [
  {
   "cell_type": "markdown",
   "metadata": {},
   "source": [
    "# Continuando con comandos en Terminal desde Linux"
   ]
  },
  {
   "cell_type": "markdown",
   "metadata": {},
   "source": [
    "2. Comandos Intermedios"
   ]
  },
  {
   "cell_type": "markdown",
   "metadata": {},
   "source": [
    "wc - Esto nos sirve para contar las lineas, letras, palabras y bytes que tiene el texto o archivo"
   ]
  },
  {
   "cell_type": "code",
   "execution_count": 3,
   "metadata": {},
   "outputs": [
    {
     "name": "stdout",
     "output_type": "stream",
     "text": [
      "  458  1068 18612 optd_aircraft_backup.csv\r\n"
     ]
    }
   ],
   "source": [
    "!wc optd_aircraft_backup.csv"
   ]
  },
  {
   "cell_type": "markdown",
   "metadata": {},
   "source": [
    "esto significa 458 lineas, 1068 palabras y 18612 letras"
   ]
  },
  {
   "cell_type": "markdown",
   "metadata": {},
   "source": [
    "head - Esto imprime las primeras 10 lineas del texto o archivo, cuando utilizas \"head -n K\" imprime las primeras K lineas, cuando utilizas \"head -c K\" imprime los primeros K bytes"
   ]
  },
  {
   "cell_type": "code",
   "execution_count": 5,
   "metadata": {},
   "outputs": [
    {
     "name": "stdout",
     "output_type": "stream",
     "text": [
      "iata_code,manufacturer,model,iata_group,iata_category,icao_code,nb_engines,aircraft_type\r\n",
      "100,Fokker,100,100,2J,F100,2,J\r\n",
      "141,BAe,146-100,146,4J,B461,4,J\r\n",
      "142,BAe,BAE Systems 146-200 Passenger,146,4J,B462,4,J\r\n",
      "143,BAe,146-300,146,4J,B463,4,J\r\n",
      "146,BAe,146,,,,,\r\n",
      "14F,BAe,146 Freighter (-100/200/300QT & QC),,,,,\r\n",
      "14X,BAe,146 Freighter (-100QT & QC),14F,4J,B461,4,J\r\n",
      "14Y,BAe,146 Freighter (-200QT & QC),14F,4J,B462,4,J\r\n",
      "14Z,BAe,146 Freighter (-300QT & QC),14F,4J,B463,4,J\r\n"
     ]
    }
   ],
   "source": [
    "!head optd_aircraft_backup.csv"
   ]
  },
  {
   "cell_type": "code",
   "execution_count": 6,
   "metadata": {
    "scrolled": true
   },
   "outputs": [
    {
     "name": "stdout",
     "output_type": "stream",
     "text": [
      "iata_code,manufacturer,model,iata_group,iata_category,icao_code,nb_engines,aircraft_type\r\n",
      "100,Fokker,100,100,2J,F100,2,J\r\n",
      "141,BAe,146-100,146,4J,B461,4,J\r\n",
      "142,BAe,BAE Systems 146-200 Passenger,146,4J,B462,4,J\r\n",
      "143,BAe,146-300,146,4J,B463,4,J\r\n",
      "146,BAe,146,,,,,\r\n",
      "14F,BAe,146 Freighter (-100/200/300QT & QC),,,,,\r\n",
      "14X,BAe,146 Freighter (-100QT & QC),14F,4J,B461,4,J\r\n",
      "14Y,BAe,146 Freighter (-200QT & QC),14F,4J,B462,4,J\r\n",
      "14Z,BAe,146 Freighter (-300QT & QC),14F,4J,B463,4,J\r\n",
      "19D,Airbus,A319,,,,,\r\n",
      "310,Airbus,A310,,,,,\r\n",
      "312,Airbus,A310-200,310,2J,A310,2,J\r\n",
      "313,Airbus,A310-300,310,2J,A310,2,J\r\n",
      "318,Airbus,A318,32S,2J,A318,2,J\r\n",
      "319,Airbus,A319,32S,2J,A319,2,J\r\n",
      "31F,Airbus,A310F,,,,,\r\n",
      "31W,Airbus,A319 (Sharklets),,,,,\r\n",
      "31X,Airbus,A310-200F,31F,2J,A310,2,J\r\n",
      "31Y,Airbus,A310-300F,31F,2J,A310,2,J\r\n"
     ]
    }
   ],
   "source": [
    "!head -n 20 optd_aircraft_backup.csv"
   ]
  },
  {
   "cell_type": "code",
   "execution_count": 8,
   "metadata": {
    "scrolled": true
   },
   "outputs": [
    {
     "name": "stdout",
     "output_type": "stream",
     "text": [
      "iata_code,manufacturer,model,iata_group,iata_category,icao_code,nb_engines,aircraft_type\r\n",
      "100,Fokker,100,100,2J,F100,2,J\r\n",
      "141,BAe,146-100,146,4J,B461,4,J\r\n",
      "142,BAe,BAE Systems 146-200 Passenger,146,4J,B462,4,J\r\n",
      "143,BAe,146-300,146,4J,B463,4,J\r\n",
      "146,BAe,146,,,,,\r\n",
      "14F,BAe,146 Freighter (-100/200/300QT & QC),,,,,\r\n",
      "14X,BAe,146 Freighter (-100QT & QC),14F,4J,B461,4,J\r\n",
      "14Y,BAe,146 Freighter (-200QT & QC),14F,4J,B462,4,J\r\n",
      "14Z,BAe,146 Freighter (-300QT & QC),14F,4J,B463,4,J\r\n",
      "19D,Airbus,A319,,,,,\r\n",
      "310,Airbus,A310,,,,,\r\n",
      "312,Airbus,A310-200,310,2J,A310,2,J\r\n",
      "313,Airbus,A310-300,310,2J,A310,2,J\r\n",
      "318,Airbus,A318,32S,2J,A318,2,J\r\n",
      "319,Airbus,A319,32S,2J,A319,2,J\r\n",
      "31F,Airbus,A310F,,,,,\r\n",
      "31W,Airbus,A319 (Sharklets),,,,,\r\n",
      "31X,Airbus,A310-200F,31F,2J,A310,2,J\r\n",
      "31Y,Airbus,A310-300F,31F,2J,A310,2,J\r\n",
      "320,Airbus,A320-100/200,32S,2J,A320,2,J\r\n",
      "321,Airbus,A321-100/200,32S,2J,A321,2,J\r\n",
      "32A,Airbus,A320 (sharklets),32S,2J,A320,2,J\r\n",
      "32B,Airbus,A321 (sharklets),32S,2J,A321,2,J\r\n",
      "32C,Airbus,A318 (sharklets),,,,,\r\n",
      "32D,Airbus,A319 (sharklets),,,,,"
     ]
    }
   ],
   "source": [
    "!head -c 1000 optd_aircraft_backup.csv"
   ]
  },
  {
   "cell_type": "markdown",
   "metadata": {},
   "source": [
    "tail - Esto imprime las ultimas 10 lineas del texto o archivo, cuando utilizas \"head -n K\" imprime las ultimas K lineas, cuando utilizas \"head -c K\" imprime los ultimos K byte"
   ]
  },
  {
   "cell_type": "code",
   "execution_count": 9,
   "metadata": {
    "scrolled": false
   },
   "outputs": [
    {
     "name": "stdout",
     "output_type": "stream",
     "text": [
      "TU3,Tupolev,Tu-134,TU3,2J,T134,2,J\r\n",
      "TU5,Tupolev,Tu-154,TU5,3J,T154,3,J\r\n",
      "VCV,Vickers,Viscount,,,,,\r\n",
      "VCX,Vickers,VC-10,,,,,\r\n",
      "WWP,IAI,1124 Westwind,WWP,2J,WW24,2,J\r\n",
      "YK2,Yakovlev / Jakovlev,Yak 42,YK2,3J,YK42,3,J\r\n",
      "YK4,Yakovlev / Jakovlev,Yak 40,YK4,3J,YK40,3,J\r\n",
      "YN2,HAMC / Harbin,Y12,YN2,2T,Y12,2,T\r\n",
      "YN7,Xian,Yunshuji Y7,YN7,2T,AN24,2,T\r\n",
      "YS1,NAMC,YS-11,YS1,2T,YS11,2,T\r\n"
     ]
    }
   ],
   "source": [
    "!tail optd_aircraft_backup.csv"
   ]
  },
  {
   "cell_type": "code",
   "execution_count": 10,
   "metadata": {
    "scrolled": true
   },
   "outputs": [
    {
     "name": "stdout",
     "output_type": "stream",
     "text": [
      "SU7,Sukhoi,Superjet 100-75,SU1,2J,ZZZZ,2,J\r\n",
      "SU9,Sukhoi,Superjet 100-95,SU1,2J,SU95,2,J\r\n",
      "SWF,Fairchild-Swearingen,SA226 Freighter,SWF,2T,*,2,T\r\n",
      "SWM,Fairchild-Swearingen,SA26 / SA226 / SA227 Metro / Merlin,SWM,2T,*,2,T\r\n",
      "SY8,Shaanxi,Y-8,SY8,4T,AN12,4,T\r\n",
      "T20,Tupolev,Tu-204 / Tu-214,T20,2J,T204,2,J\r\n",
      "T2F,Tupolev,Tu-204 Freighter,T2F,2J,T204,2,J\r\n",
      "T34,Tupolev,Tu-334,T34,2J,T334,2,J\r\n",
      "TBM,DAHER-SOCATA,TBM-700,TBM,1T,TBM7,1,T\r\n",
      "TRN,Surface Equipment,Train,TRN,S,0000,,S\r\n",
      "TU3,Tupolev,Tu-134,TU3,2J,T134,2,J\r\n",
      "TU5,Tupolev,Tu-154,TU5,3J,T154,3,J\r\n",
      "VCV,Vickers,Viscount,,,,,\r\n",
      "VCX,Vickers,VC-10,,,,,\r\n",
      "WWP,IAI,1124 Westwind,WWP,2J,WW24,2,J\r\n",
      "YK2,Yakovlev / Jakovlev,Yak 42,YK2,3J,YK42,3,J\r\n",
      "YK4,Yakovlev / Jakovlev,Yak 40,YK4,3J,YK40,3,J\r\n",
      "YN2,HAMC / Harbin,Y12,YN2,2T,Y12,2,T\r\n",
      "YN7,Xian,Yunshuji Y7,YN7,2T,AN24,2,T\r\n",
      "YS1,NAMC,YS-11,YS1,2T,YS11,2,T\r\n"
     ]
    }
   ],
   "source": [
    "!tail -n 20 optd_aircraft_backup.csv"
   ]
  },
  {
   "cell_type": "code",
   "execution_count": 11,
   "metadata": {
    "scrolled": true
   },
   "outputs": [
    {
     "name": "stdout",
     "output_type": "stream",
     "text": [
      "D.330,SH3,2T,SH33,2,T\r\n",
      "SH6,Shorts,SD.360,SH6,2T,SH36,2,T\r\n",
      "SHB,Shorts,SC-5 Belfast,,,,,\r\n",
      "SHS,Shorts,SC-7 Skyvan,SHS,2T,SC7,2,T\r\n",
      "SSC,Aerospatiale / SNIAS,Concorde,,,,,\r\n",
      "SU1,Sukhoi,Superjet 100,,,,,\r\n",
      "SU7,Sukhoi,Superjet 100-75,SU1,2J,ZZZZ,2,J\r\n",
      "SU9,Sukhoi,Superjet 100-95,SU1,2J,SU95,2,J\r\n",
      "SWF,Fairchild-Swearingen,SA226 Freighter,SWF,2T,*,2,T\r\n",
      "SWM,Fairchild-Swearingen,SA26 / SA226 / SA227 Metro / Merlin,SWM,2T,*,2,T\r\n",
      "SY8,Shaanxi,Y-8,SY8,4T,AN12,4,T\r\n",
      "T20,Tupolev,Tu-204 / Tu-214,T20,2J,T204,2,J\r\n",
      "T2F,Tupolev,Tu-204 Freighter,T2F,2J,T204,2,J\r\n",
      "T34,Tupolev,Tu-334,T34,2J,T334,2,J\r\n",
      "TBM,DAHER-SOCATA,TBM-700,TBM,1T,TBM7,1,T\r\n",
      "TRN,Surface Equipment,Train,TRN,S,0000,,S\r\n",
      "TU3,Tupolev,Tu-134,TU3,2J,T134,2,J\r\n",
      "TU5,Tupolev,Tu-154,TU5,3J,T154,3,J\r\n",
      "VCV,Vickers,Viscount,,,,,\r\n",
      "VCX,Vickers,VC-10,,,,,\r\n",
      "WWP,IAI,1124 Westwind,WWP,2J,WW24,2,J\r\n",
      "YK2,Yakovlev / Jakovlev,Yak 42,YK2,3J,YK42,3,J\r\n",
      "YK4,Yakovlev / Jakovlev,Yak 40,YK4,3J,YK40,3,J\r\n",
      "YN2,HAMC / Harbin,Y12,YN2,2T,Y12,2,T\r\n",
      "YN7,Xian,Yunshuji Y7,YN7,2T,AN24,2,T\r\n",
      "YS1,NAMC,YS-11,YS1,2T,YS11,2,T\r\n"
     ]
    }
   ],
   "source": [
    "!tail -c 1000 optd_aircraft_backup.csv"
   ]
  },
  {
   "cell_type": "markdown",
   "metadata": {},
   "source": [
    "find - Esto busca archivos en directorio, utilize \"find -type f\" para buscar f(archivo),d(directorio). utiliza \"find -name nombre\" para encontrar por nombre, \"find -perm 777\" para encontrar archivos con todos los permisos, \"find -not nombre\" para buscar archivos que no tengan nombre, \"find -size KM\" para buscar archivos que pesan hasta K megas, \"find (ruta)  -exec (ls -la {} \\;)\" para buscar en la ejecucion ls -la de la ruta (ruta)"
   ]
  },
  {
   "cell_type": "code",
   "execution_count": 15,
   "metadata": {},
   "outputs": [
    {
     "name": "stdout",
     "output_type": "stream",
     "text": [
      "./optd_aircraft_backup.csv\r\n",
      "./optd_aircraft.csv\r\n"
     ]
    }
   ],
   "source": [
    "!find -type f -name \"optd*\""
   ]
  },
  {
   "cell_type": "code",
   "execution_count": 58,
   "metadata": {
    "scrolled": true
   },
   "outputs": [
    {
     "name": "stdout",
     "output_type": "stream",
     "text": [
      "/home/dsc/Data/challenge/searches.csv.bz2\n",
      "/home/dsc/Data/challenge/bookings.csv.bz2\n",
      "/home/dsc/anaconda3/pkgs/mkl-2018.0.1-h19d6760_4.tar.bz2\n"
     ]
    }
   ],
   "source": [
    "!find ~ -type f -size +100M"
   ]
  },
  {
   "cell_type": "code",
   "execution_count": 57,
   "metadata": {
    "scrolled": true
   },
   "outputs": [
    {
     "name": "stdout",
     "output_type": "stream",
     "text": [
      "./optd_aircraft.csv\r\n",
      "./.git/objects/5b/39ea74ad5443c29840ee649cafc3bce0b2cc91\r\n",
      "./.git/objects/9f/90bc286a355e394cebd55ad82e81455f5e1bfa\r\n",
      "./.git/objects/9f/669cc0ebb32ceaa9ed051d234b77b3386df269\r\n",
      "./.git/objects/88/1cd62446ae3ff4fa27a893251f1b8d40bd89ab\r\n",
      "./.git/objects/a1/552c8ff26f391c3c6eb02e09c1f372b41f6205\r\n",
      "./.git/objects/3b/18e512dba79e4c8300dd08aeb37f8e728b8dad\r\n",
      "./.git/objects/ac/4e4b440fc6369e99a27004b565cafdced38bea\r\n",
      "./.git/objects/32/a3e157db2aff37cbcc61885f142feadc0d95b3\r\n",
      "./.git/objects/b1/ccf13e7cde3012ad7f746d77a6bb25da34de04\r\n",
      "./.git/objects/c8/b1517391b7f023d39bb734b10c1c9664dfcd00\r\n",
      "./.git/objects/c2/5462e9d16bceaf8c278244b9929541f3768835\r\n",
      "./.git/objects/8c/ac0686d5e8a922bef8e5a20ccc63415cffb2ed\r\n",
      "./.git/objects/c3/d96464cdd712f1ffdac40082e290ce85cb2fb0\r\n",
      "./.git/objects/67/ecf55f952be4195c8f7dfd9902e14fdf78ff80\r\n",
      "./.git/objects/6a/b5488185c7770f9d20fd6601501ad9efbdb757\r\n",
      "./.git/objects/10/b231e699ac2dbde4796f4dc4225d383b1bba56\r\n",
      "./.git/objects/78/cc4be754192cb256c41ccc57b7b7c401003c50\r\n",
      "./.git/objects/ef/1b815afaffde051ef16d54bd3d0295ad1149a7\r\n",
      "./.git/objects/c9/cc018bcab815c140e7995d6121d53ff1c0ba4e\r\n",
      "./.git/objects/94/8df94e2cb386f9bc83f0c46d6409b536df6876\r\n",
      "./.git/objects/ed/028be114a76cbc6746d45728247d62ce673fbc\r\n",
      "./.git/objects/e2/2d6d7a959d3e34b2ec2b8bc2eb32b158873459\r\n",
      "./.git/objects/76/5c4efc720fc3da6587d4375e62f9d4babadbbf\r\n",
      "./.git/objects/fd/45e2a3956d1509ae42d675dcab20d2562b83ff\r\n",
      "./.git/objects/b9/60eabd4849956d499f17c7e7f10fe6958a5313\r\n",
      "./.git/objects/92/e36e0705a711256b640f6b00e38dc0c1300923\r\n",
      "./.git/objects/4d/141b77fe140c82813e2e09c409be9f0740adcf\r\n",
      "./.git/objects/db/b4221750a2547c6b6c5a8dd431a88438c0b5a0\r\n",
      "./.git/objects/8d/60f353ff456febba537404c18a0004b014b33e\r\n",
      "./.git/objects/1a/9e4624b6eed0534f8513f27765c2fc09ede2e9\r\n",
      "./.git/objects/4c/bfcc83ab374cb312634c435b9a202e0e297aed\r\n",
      "./.git/objects/4e/e53d29aafad41f9d21d20df423b0eecd4572b9\r\n",
      "./.git/objects/46/2a050b0fb8b206fe967bc3221d9426835591a0\r\n",
      "./.git/objects/22/22b2be416c93a48b8ca206073df75b8bc7f76d\r\n"
     ]
    }
   ],
   "source": [
    "!find -perm a+r"
   ]
  },
  {
   "cell_type": "code",
   "execution_count": 34,
   "metadata": {},
   "outputs": [
    {
     "name": "stdout",
     "output_type": "stream",
     "text": [
      "./.git/branches\r\n",
      "./.git/refs/tags\r\n",
      "./.git/objects/pack\r\n",
      "./.git/objects/info\r\n",
      "./copy_directory\r\n"
     ]
    }
   ],
   "source": [
    "!find -empty"
   ]
  },
  {
   "cell_type": "code",
   "execution_count": 49,
   "metadata": {},
   "outputs": [
    {
     "name": "stdout",
     "output_type": "stream",
     "text": [
      "-rwxr-x--- 1 dsc dsc 483188920 mar 13  2018 /home/dsc/Data/challenge/searches.csv.bz2\n",
      "-rwxr-x--- 1 dsc dsc 554970628 mar 13  2018 /home/dsc/Data/challenge/bookings.csv.bz2\n",
      "-rw-r--r-- 1 dsc dsc 193625096 feb  6  2018 /home/dsc/anaconda3/pkgs/mkl-2018.0.1-h19d6760_4.tar.bz2\n"
     ]
    }
   ],
   "source": [
    "!find ~ -type f -size +100M -exec ls -la {} \\;"
   ]
  }
 ],
 "metadata": {
  "kernelspec": {
   "display_name": "Python 3",
   "language": "python",
   "name": "python3"
  },
  "language_info": {
   "codemirror_mode": {
    "name": "ipython",
    "version": 3
   },
   "file_extension": ".py",
   "mimetype": "text/x-python",
   "name": "python",
   "nbconvert_exporter": "python",
   "pygments_lexer": "ipython3",
   "version": "3.6.4"
  }
 },
 "nbformat": 4,
 "nbformat_minor": 2
}
