{
 "cells": [
  {
   "cell_type": "markdown",
   "metadata": {},
   "source": [
    "# Continuando con comandos en Terminal desde Linux"
   ]
  },
  {
   "cell_type": "markdown",
   "metadata": {},
   "source": [
    "2. Comandos Intermedios"
   ]
  },
  {
   "cell_type": "markdown",
   "metadata": {},
   "source": [
    "wc - Esto nos sirve para contar las lineas, letras, palabras y bytes que tiene el texto o archivo"
   ]
  },
  {
   "cell_type": "code",
   "execution_count": 3,
   "metadata": {},
   "outputs": [
    {
     "name": "stdout",
     "output_type": "stream",
     "text": [
      "  458  1068 18612 optd_aircraft_backup.csv\r\n"
     ]
    }
   ],
   "source": [
    "!wc optd_aircraft_backup.csv"
   ]
  },
  {
   "cell_type": "markdown",
   "metadata": {},
   "source": [
    "esto significa 458 lineas, 1068 palabras y 18612 letras"
   ]
  },
  {
   "cell_type": "markdown",
   "metadata": {},
   "source": [
    "head - Esto imprime las primeras 10 lineas del texto o archivo, cuando utilizas \"head -n K\" imprime las primeras K lineas, cuando utilizas \"head -c K\" imprime los primeros K bytes"
   ]
  },
  {
   "cell_type": "code",
   "execution_count": 5,
   "metadata": {},
   "outputs": [
    {
     "name": "stdout",
     "output_type": "stream",
     "text": [
      "iata_code,manufacturer,model,iata_group,iata_category,icao_code,nb_engines,aircraft_type\r\n",
      "100,Fokker,100,100,2J,F100,2,J\r\n",
      "141,BAe,146-100,146,4J,B461,4,J\r\n",
      "142,BAe,BAE Systems 146-200 Passenger,146,4J,B462,4,J\r\n",
      "143,BAe,146-300,146,4J,B463,4,J\r\n",
      "146,BAe,146,,,,,\r\n",
      "14F,BAe,146 Freighter (-100/200/300QT & QC),,,,,\r\n",
      "14X,BAe,146 Freighter (-100QT & QC),14F,4J,B461,4,J\r\n",
      "14Y,BAe,146 Freighter (-200QT & QC),14F,4J,B462,4,J\r\n",
      "14Z,BAe,146 Freighter (-300QT & QC),14F,4J,B463,4,J\r\n"
     ]
    }
   ],
   "source": [
    "!head optd_aircraft_backup.csv"
   ]
  },
  {
   "cell_type": "code",
   "execution_count": 6,
   "metadata": {
    "scrolled": true
   },
   "outputs": [
    {
     "name": "stdout",
     "output_type": "stream",
     "text": [
      "iata_code,manufacturer,model,iata_group,iata_category,icao_code,nb_engines,aircraft_type\r\n",
      "100,Fokker,100,100,2J,F100,2,J\r\n",
      "141,BAe,146-100,146,4J,B461,4,J\r\n",
      "142,BAe,BAE Systems 146-200 Passenger,146,4J,B462,4,J\r\n",
      "143,BAe,146-300,146,4J,B463,4,J\r\n",
      "146,BAe,146,,,,,\r\n",
      "14F,BAe,146 Freighter (-100/200/300QT & QC),,,,,\r\n",
      "14X,BAe,146 Freighter (-100QT & QC),14F,4J,B461,4,J\r\n",
      "14Y,BAe,146 Freighter (-200QT & QC),14F,4J,B462,4,J\r\n",
      "14Z,BAe,146 Freighter (-300QT & QC),14F,4J,B463,4,J\r\n",
      "19D,Airbus,A319,,,,,\r\n",
      "310,Airbus,A310,,,,,\r\n",
      "312,Airbus,A310-200,310,2J,A310,2,J\r\n",
      "313,Airbus,A310-300,310,2J,A310,2,J\r\n",
      "318,Airbus,A318,32S,2J,A318,2,J\r\n",
      "319,Airbus,A319,32S,2J,A319,2,J\r\n",
      "31F,Airbus,A310F,,,,,\r\n",
      "31W,Airbus,A319 (Sharklets),,,,,\r\n",
      "31X,Airbus,A310-200F,31F,2J,A310,2,J\r\n",
      "31Y,Airbus,A310-300F,31F,2J,A310,2,J\r\n"
     ]
    }
   ],
   "source": [
    "!head -n 20 optd_aircraft_backup.csv"
   ]
  },
  {
   "cell_type": "code",
   "execution_count": 8,
   "metadata": {
    "scrolled": true
   },
   "outputs": [
    {
     "name": "stdout",
     "output_type": "stream",
     "text": [
      "iata_code,manufacturer,model,iata_group,iata_category,icao_code,nb_engines,aircraft_type\r\n",
      "100,Fokker,100,100,2J,F100,2,J\r\n",
      "141,BAe,146-100,146,4J,B461,4,J\r\n",
      "142,BAe,BAE Systems 146-200 Passenger,146,4J,B462,4,J\r\n",
      "143,BAe,146-300,146,4J,B463,4,J\r\n",
      "146,BAe,146,,,,,\r\n",
      "14F,BAe,146 Freighter (-100/200/300QT & QC),,,,,\r\n",
      "14X,BAe,146 Freighter (-100QT & QC),14F,4J,B461,4,J\r\n",
      "14Y,BAe,146 Freighter (-200QT & QC),14F,4J,B462,4,J\r\n",
      "14Z,BAe,146 Freighter (-300QT & QC),14F,4J,B463,4,J\r\n",
      "19D,Airbus,A319,,,,,\r\n",
      "310,Airbus,A310,,,,,\r\n",
      "312,Airbus,A310-200,310,2J,A310,2,J\r\n",
      "313,Airbus,A310-300,310,2J,A310,2,J\r\n",
      "318,Airbus,A318,32S,2J,A318,2,J\r\n",
      "319,Airbus,A319,32S,2J,A319,2,J\r\n",
      "31F,Airbus,A310F,,,,,\r\n",
      "31W,Airbus,A319 (Sharklets),,,,,\r\n",
      "31X,Airbus,A310-200F,31F,2J,A310,2,J\r\n",
      "31Y,Airbus,A310-300F,31F,2J,A310,2,J\r\n",
      "320,Airbus,A320-100/200,32S,2J,A320,2,J\r\n",
      "321,Airbus,A321-100/200,32S,2J,A321,2,J\r\n",
      "32A,Airbus,A320 (sharklets),32S,2J,A320,2,J\r\n",
      "32B,Airbus,A321 (sharklets),32S,2J,A321,2,J\r\n",
      "32C,Airbus,A318 (sharklets),,,,,\r\n",
      "32D,Airbus,A319 (sharklets),,,,,"
     ]
    }
   ],
   "source": [
    "!head -c 1000 optd_aircraft_backup.csv"
   ]
  },
  {
   "cell_type": "markdown",
   "metadata": {},
   "source": [
    "tail - Esto imprime las ultimas 10 lineas del texto o archivo, cuando utilizas \"head -n K\" imprime las ultimas K lineas, cuando utilizas \"head -c K\" imprime los ultimos K byte"
   ]
  },
  {
   "cell_type": "code",
   "execution_count": 9,
   "metadata": {
    "scrolled": false
   },
   "outputs": [
    {
     "name": "stdout",
     "output_type": "stream",
     "text": [
      "TU3,Tupolev,Tu-134,TU3,2J,T134,2,J\r\n",
      "TU5,Tupolev,Tu-154,TU5,3J,T154,3,J\r\n",
      "VCV,Vickers,Viscount,,,,,\r\n",
      "VCX,Vickers,VC-10,,,,,\r\n",
      "WWP,IAI,1124 Westwind,WWP,2J,WW24,2,J\r\n",
      "YK2,Yakovlev / Jakovlev,Yak 42,YK2,3J,YK42,3,J\r\n",
      "YK4,Yakovlev / Jakovlev,Yak 40,YK4,3J,YK40,3,J\r\n",
      "YN2,HAMC / Harbin,Y12,YN2,2T,Y12,2,T\r\n",
      "YN7,Xian,Yunshuji Y7,YN7,2T,AN24,2,T\r\n",
      "YS1,NAMC,YS-11,YS1,2T,YS11,2,T\r\n"
     ]
    }
   ],
   "source": [
    "!tail optd_aircraft_backup.csv"
   ]
  },
  {
   "cell_type": "code",
   "execution_count": 10,
   "metadata": {
    "scrolled": true
   },
   "outputs": [
    {
     "name": "stdout",
     "output_type": "stream",
     "text": [
      "SU7,Sukhoi,Superjet 100-75,SU1,2J,ZZZZ,2,J\r\n",
      "SU9,Sukhoi,Superjet 100-95,SU1,2J,SU95,2,J\r\n",
      "SWF,Fairchild-Swearingen,SA226 Freighter,SWF,2T,*,2,T\r\n",
      "SWM,Fairchild-Swearingen,SA26 / SA226 / SA227 Metro / Merlin,SWM,2T,*,2,T\r\n",
      "SY8,Shaanxi,Y-8,SY8,4T,AN12,4,T\r\n",
      "T20,Tupolev,Tu-204 / Tu-214,T20,2J,T204,2,J\r\n",
      "T2F,Tupolev,Tu-204 Freighter,T2F,2J,T204,2,J\r\n",
      "T34,Tupolev,Tu-334,T34,2J,T334,2,J\r\n",
      "TBM,DAHER-SOCATA,TBM-700,TBM,1T,TBM7,1,T\r\n",
      "TRN,Surface Equipment,Train,TRN,S,0000,,S\r\n",
      "TU3,Tupolev,Tu-134,TU3,2J,T134,2,J\r\n",
      "TU5,Tupolev,Tu-154,TU5,3J,T154,3,J\r\n",
      "VCV,Vickers,Viscount,,,,,\r\n",
      "VCX,Vickers,VC-10,,,,,\r\n",
      "WWP,IAI,1124 Westwind,WWP,2J,WW24,2,J\r\n",
      "YK2,Yakovlev / Jakovlev,Yak 42,YK2,3J,YK42,3,J\r\n",
      "YK4,Yakovlev / Jakovlev,Yak 40,YK4,3J,YK40,3,J\r\n",
      "YN2,HAMC / Harbin,Y12,YN2,2T,Y12,2,T\r\n",
      "YN7,Xian,Yunshuji Y7,YN7,2T,AN24,2,T\r\n",
      "YS1,NAMC,YS-11,YS1,2T,YS11,2,T\r\n"
     ]
    }
   ],
   "source": [
    "!tail -n 20 optd_aircraft_backup.csv"
   ]
  },
  {
   "cell_type": "code",
   "execution_count": 11,
   "metadata": {
    "scrolled": true
   },
   "outputs": [
    {
     "name": "stdout",
     "output_type": "stream",
     "text": [
      "D.330,SH3,2T,SH33,2,T\r\n",
      "SH6,Shorts,SD.360,SH6,2T,SH36,2,T\r\n",
      "SHB,Shorts,SC-5 Belfast,,,,,\r\n",
      "SHS,Shorts,SC-7 Skyvan,SHS,2T,SC7,2,T\r\n",
      "SSC,Aerospatiale / SNIAS,Concorde,,,,,\r\n",
      "SU1,Sukhoi,Superjet 100,,,,,\r\n",
      "SU7,Sukhoi,Superjet 100-75,SU1,2J,ZZZZ,2,J\r\n",
      "SU9,Sukhoi,Superjet 100-95,SU1,2J,SU95,2,J\r\n",
      "SWF,Fairchild-Swearingen,SA226 Freighter,SWF,2T,*,2,T\r\n",
      "SWM,Fairchild-Swearingen,SA26 / SA226 / SA227 Metro / Merlin,SWM,2T,*,2,T\r\n",
      "SY8,Shaanxi,Y-8,SY8,4T,AN12,4,T\r\n",
      "T20,Tupolev,Tu-204 / Tu-214,T20,2J,T204,2,J\r\n",
      "T2F,Tupolev,Tu-204 Freighter,T2F,2J,T204,2,J\r\n",
      "T34,Tupolev,Tu-334,T34,2J,T334,2,J\r\n",
      "TBM,DAHER-SOCATA,TBM-700,TBM,1T,TBM7,1,T\r\n",
      "TRN,Surface Equipment,Train,TRN,S,0000,,S\r\n",
      "TU3,Tupolev,Tu-134,TU3,2J,T134,2,J\r\n",
      "TU5,Tupolev,Tu-154,TU5,3J,T154,3,J\r\n",
      "VCV,Vickers,Viscount,,,,,\r\n",
      "VCX,Vickers,VC-10,,,,,\r\n",
      "WWP,IAI,1124 Westwind,WWP,2J,WW24,2,J\r\n",
      "YK2,Yakovlev / Jakovlev,Yak 42,YK2,3J,YK42,3,J\r\n",
      "YK4,Yakovlev / Jakovlev,Yak 40,YK4,3J,YK40,3,J\r\n",
      "YN2,HAMC / Harbin,Y12,YN2,2T,Y12,2,T\r\n",
      "YN7,Xian,Yunshuji Y7,YN7,2T,AN24,2,T\r\n",
      "YS1,NAMC,YS-11,YS1,2T,YS11,2,T\r\n"
     ]
    }
   ],
   "source": [
    "!tail -c 1000 optd_aircraft_backup.csv"
   ]
  },
  {
   "cell_type": "markdown",
   "metadata": {},
   "source": [
    "find - Esto busca archivos en directorio, utilize \"find -type f\" para buscar f(archivo),d(directorio). utiliza \"find -name nombre\" para encontrar por nombre, \"find -perm 777\" para encontrar archivos con todos los permisos, \"find -not nombre\" para buscar archivos que no tengan nombre, \"find -size KM\" para buscar archivos que pesan hasta K megas, \"find (ruta)  -exec (ls -la {} \\;)\" para buscar en la ejecucion ls -la de la ruta (ruta)"
   ]
  },
  {
   "cell_type": "code",
   "execution_count": 15,
   "metadata": {},
   "outputs": [
    {
     "name": "stdout",
     "output_type": "stream",
     "text": [
      "./optd_aircraft_backup.csv\r\n",
      "./optd_aircraft.csv\r\n"
     ]
    }
   ],
   "source": [
    "!find -type f -name \"optd*\""
   ]
  },
  {
   "cell_type": "code",
   "execution_count": 58,
   "metadata": {
    "scrolled": true
   },
   "outputs": [
    {
     "name": "stdout",
     "output_type": "stream",
     "text": [
      "/home/dsc/Data/challenge/searches.csv.bz2\n",
      "/home/dsc/Data/challenge/bookings.csv.bz2\n",
      "/home/dsc/anaconda3/pkgs/mkl-2018.0.1-h19d6760_4.tar.bz2\n"
     ]
    }
   ],
   "source": [
    "!find ~ -type f -size +100M"
   ]
  },
  {
   "cell_type": "code",
   "execution_count": 57,
   "metadata": {
    "scrolled": true
   },
   "outputs": [
    {
     "name": "stdout",
     "output_type": "stream",
     "text": [
      "./optd_aircraft.csv\r\n",
      "./.git/objects/5b/39ea74ad5443c29840ee649cafc3bce0b2cc91\r\n",
      "./.git/objects/9f/90bc286a355e394cebd55ad82e81455f5e1bfa\r\n",
      "./.git/objects/9f/669cc0ebb32ceaa9ed051d234b77b3386df269\r\n",
      "./.git/objects/88/1cd62446ae3ff4fa27a893251f1b8d40bd89ab\r\n",
      "./.git/objects/a1/552c8ff26f391c3c6eb02e09c1f372b41f6205\r\n",
      "./.git/objects/3b/18e512dba79e4c8300dd08aeb37f8e728b8dad\r\n",
      "./.git/objects/ac/4e4b440fc6369e99a27004b565cafdced38bea\r\n",
      "./.git/objects/32/a3e157db2aff37cbcc61885f142feadc0d95b3\r\n",
      "./.git/objects/b1/ccf13e7cde3012ad7f746d77a6bb25da34de04\r\n",
      "./.git/objects/c8/b1517391b7f023d39bb734b10c1c9664dfcd00\r\n",
      "./.git/objects/c2/5462e9d16bceaf8c278244b9929541f3768835\r\n",
      "./.git/objects/8c/ac0686d5e8a922bef8e5a20ccc63415cffb2ed\r\n",
      "./.git/objects/c3/d96464cdd712f1ffdac40082e290ce85cb2fb0\r\n",
      "./.git/objects/67/ecf55f952be4195c8f7dfd9902e14fdf78ff80\r\n",
      "./.git/objects/6a/b5488185c7770f9d20fd6601501ad9efbdb757\r\n",
      "./.git/objects/10/b231e699ac2dbde4796f4dc4225d383b1bba56\r\n",
      "./.git/objects/78/cc4be754192cb256c41ccc57b7b7c401003c50\r\n",
      "./.git/objects/ef/1b815afaffde051ef16d54bd3d0295ad1149a7\r\n",
      "./.git/objects/c9/cc018bcab815c140e7995d6121d53ff1c0ba4e\r\n",
      "./.git/objects/94/8df94e2cb386f9bc83f0c46d6409b536df6876\r\n",
      "./.git/objects/ed/028be114a76cbc6746d45728247d62ce673fbc\r\n",
      "./.git/objects/e2/2d6d7a959d3e34b2ec2b8bc2eb32b158873459\r\n",
      "./.git/objects/76/5c4efc720fc3da6587d4375e62f9d4babadbbf\r\n",
      "./.git/objects/fd/45e2a3956d1509ae42d675dcab20d2562b83ff\r\n",
      "./.git/objects/b9/60eabd4849956d499f17c7e7f10fe6958a5313\r\n",
      "./.git/objects/92/e36e0705a711256b640f6b00e38dc0c1300923\r\n",
      "./.git/objects/4d/141b77fe140c82813e2e09c409be9f0740adcf\r\n",
      "./.git/objects/db/b4221750a2547c6b6c5a8dd431a88438c0b5a0\r\n",
      "./.git/objects/8d/60f353ff456febba537404c18a0004b014b33e\r\n",
      "./.git/objects/1a/9e4624b6eed0534f8513f27765c2fc09ede2e9\r\n",
      "./.git/objects/4c/bfcc83ab374cb312634c435b9a202e0e297aed\r\n",
      "./.git/objects/4e/e53d29aafad41f9d21d20df423b0eecd4572b9\r\n",
      "./.git/objects/46/2a050b0fb8b206fe967bc3221d9426835591a0\r\n",
      "./.git/objects/22/22b2be416c93a48b8ca206073df75b8bc7f76d\r\n"
     ]
    }
   ],
   "source": [
    "!find -perm a+r"
   ]
  },
  {
   "cell_type": "code",
   "execution_count": 34,
   "metadata": {},
   "outputs": [
    {
     "name": "stdout",
     "output_type": "stream",
     "text": [
      "./.git/branches\r\n",
      "./.git/refs/tags\r\n",
      "./.git/objects/pack\r\n",
      "./.git/objects/info\r\n",
      "./copy_directory\r\n"
     ]
    }
   ],
   "source": [
    "!find -empty"
   ]
  },
  {
   "cell_type": "code",
   "execution_count": 49,
   "metadata": {
    "scrolled": false
   },
   "outputs": [
    {
     "name": "stdout",
     "output_type": "stream",
     "text": [
      "-rwxr-x--- 1 dsc dsc 483188920 mar 13  2018 /home/dsc/Data/challenge/searches.csv.bz2\n",
      "-rwxr-x--- 1 dsc dsc 554970628 mar 13  2018 /home/dsc/Data/challenge/bookings.csv.bz2\n",
      "-rw-r--r-- 1 dsc dsc 193625096 feb  6  2018 /home/dsc/anaconda3/pkgs/mkl-2018.0.1-h19d6760_4.tar.bz2\n"
     ]
    }
   ],
   "source": [
    "!find ~ -type f -size +100M -exec ls -la {} \\;"
   ]
  },
  {
   "cell_type": "markdown",
   "metadata": {},
   "source": [
    "sort - Esto nos sirve para ordenar las lineas de un texto o archivo. utilize \"sort -n \" para mostrar el orden por valor número, utilize \"sort -r \" para mostrar el orden reverso,utilize \"sort -u \" para mostrar el orden unico, utilize \"sort -t \" \" \" para ordenar el texto o archivo considerando el delimitador \" \",utilize \"sort -k M[,N] \" para mostrar el orden de las columnas entre M y N"
   ]
  },
  {
   "cell_type": "code",
   "execution_count": 7,
   "metadata": {
    "scrolled": true
   },
   "outputs": [
    {
     "name": "stdout",
     "output_type": "stream",
     "text": [
      "1\r\n",
      "1\r\n",
      "10\r\n",
      "11\r\n",
      "13\r\n",
      "16\r\n",
      "2\r\n",
      "3\r\n",
      "4\r\n",
      "5\r\n",
      "5\r\n",
      "6\r\n",
      "6\r\n",
      "7\r\n",
      "8\r\n",
      "9\r\n",
      "9\r\n",
      "carlos\r\n",
      "lucia\r\n",
      "miguel\r\n",
      "Miguel\r\n"
     ]
    }
   ],
   "source": [
    "!sort Numbers_Names.txt"
   ]
  },
  {
   "cell_type": "code",
   "execution_count": 9,
   "metadata": {
    "scrolled": true
   },
   "outputs": [
    {
     "name": "stdout",
     "output_type": "stream",
     "text": [
      "carlos\r\n",
      "lucia\r\n",
      "miguel\r\n",
      "Miguel\r\n",
      "1\r\n",
      "1\r\n",
      "2\r\n",
      "3\r\n",
      "4\r\n",
      "5\r\n",
      "5\r\n",
      "6\r\n",
      "6\r\n",
      "7\r\n",
      "8\r\n",
      "9\r\n",
      "9\r\n",
      "10\r\n",
      "11\r\n",
      "13\r\n",
      "16\r\n"
     ]
    }
   ],
   "source": [
    "!sort -n Numbers_Names.txt"
   ]
  },
  {
   "cell_type": "code",
   "execution_count": 10,
   "metadata": {
    "scrolled": true
   },
   "outputs": [
    {
     "name": "stdout",
     "output_type": "stream",
     "text": [
      "Miguel\r\n",
      "miguel\r\n",
      "lucia\r\n",
      "carlos\r\n",
      "9\r\n",
      "9\r\n",
      "8\r\n",
      "7\r\n",
      "6\r\n",
      "6\r\n",
      "5\r\n",
      "5\r\n",
      "4\r\n",
      "3\r\n",
      "2\r\n",
      "16\r\n",
      "13\r\n",
      "11\r\n",
      "10\r\n",
      "1\r\n",
      "1\r\n"
     ]
    }
   ],
   "source": [
    "!sort -r Numbers_Names.txt"
   ]
  },
  {
   "cell_type": "code",
   "execution_count": 12,
   "metadata": {
    "scrolled": false
   },
   "outputs": [
    {
     "name": "stdout",
     "output_type": "stream",
     "text": [
      "1\r\n",
      "10\r\n",
      "11\r\n",
      "13\r\n",
      "16\r\n",
      "2\r\n",
      "3\r\n",
      "4\r\n",
      "5\r\n",
      "6\r\n",
      "7\r\n",
      "8\r\n",
      "9\r\n",
      "carlos\r\n",
      "lucia\r\n",
      "miguel\r\n",
      "Miguel\r\n"
     ]
    }
   ],
   "source": [
    "!sort -u Numbers_Names.txt"
   ]
  },
  {
   "cell_type": "code",
   "execution_count": 13,
   "metadata": {
    "scrolled": true
   },
   "outputs": [
    {
     "name": "stdout",
     "output_type": "stream",
     "text": [
      "1\r\n",
      "1\r\n",
      "10\r\n",
      "11\r\n",
      "13\r\n",
      "16\r\n",
      "2\r\n",
      "3\r\n",
      "4\r\n",
      "5\r\n",
      "5\r\n",
      "6\r\n",
      "6\r\n",
      "7\r\n",
      "8\r\n",
      "9\r\n",
      "9\r\n",
      "carlos\r\n",
      "lucia\r\n",
      "miguel\r\n",
      "Miguel\r\n"
     ]
    }
   ],
   "source": [
    "!sort -k 1 Numbers_Names.txt"
   ]
  },
  {
   "cell_type": "markdown",
   "metadata": {},
   "source": [
    "uniq - Esto nos sirve para mostrar lineas unicas. utilize \"uniq -c \" para agregar el numero de linea repetido, utilize \"uniq -d \" para mostrar lineas duplicadas, utilize \"uniq -i\" para mostrar lineas unicas sin considerar mayusculas y minusculas."
   ]
  },
  {
   "cell_type": "code",
   "execution_count": 16,
   "metadata": {
    "scrolled": true
   },
   "outputs": [
    {
     "name": "stdout",
     "output_type": "stream",
     "text": [
      "carlos\r\n",
      "lucia\r\n",
      "miguel\r\n",
      "Miguel\r\n",
      "1\r\n",
      "2\r\n",
      "3\r\n",
      "4\r\n",
      "5\r\n",
      "6\r\n",
      "7\r\n",
      "8\r\n",
      "9\r\n",
      "10\r\n",
      "11\r\n",
      "13\r\n",
      "16\r\n"
     ]
    }
   ],
   "source": [
    "!sort -n Numbers_Names.txt | uniq"
   ]
  },
  {
   "cell_type": "markdown",
   "metadata": {},
   "source": [
    "Como vemos aqui estamos usando dos comando sort y uniq, para sacar lineas unicas y ordenadas numericamente"
   ]
  },
  {
   "cell_type": "markdown",
   "metadata": {},
   "source": [
    "cut - Esto nos sirve para cortar lineas. utilize \"cut -d \" \" \" para cortar lineas que tienen delimitador \" \", utilize \"cut -f \" para cortar columnas seleccionadas"
   ]
  },
  {
   "cell_type": "code",
   "execution_count": 18,
   "metadata": {},
   "outputs": [
    {
     "name": "stdout",
     "output_type": "stream",
     "text": [
      "iata_group\r\n",
      "100\r\n",
      "146\r\n",
      "146\r\n",
      "146\r\n",
      "\r\n",
      "\r\n",
      "14F\r\n",
      "14F\r\n",
      "14F\r\n"
     ]
    }
   ],
   "source": [
    "!cut -d \",\" -f 4 optd_aircraft.csv"
   ]
  },
  {
   "cell_type": "markdown",
   "metadata": {},
   "source": [
    "En este caso cortamos la columna 4 del archivo optd_aircraft.csv delimitado por comas"
   ]
  },
  {
   "cell_type": "markdown",
   "metadata": {},
   "source": [
    "paste - Esto nos sirve para pegar o fusionar lineas. utilize \"paste -s \" para concatenar horizontalmente, utilize \"paste -d \",\" \" para concatenar horizontalmente separado por comas, utilize \"paste <() <()\" para concatenar columnas"
   ]
  },
  {
   "cell_type": "code",
   "execution_count": 20,
   "metadata": {},
   "outputs": [
    {
     "name": "stdout",
     "output_type": "stream",
     "text": [
      "1\r\n",
      "2\r\n",
      "3\r\n",
      "4\r\n",
      "5\r\n",
      "6\r\n",
      "7\r\n",
      "8\r\n",
      "9\r\n",
      "10\r\n"
     ]
    }
   ],
   "source": [
    "!seq 10 | paste"
   ]
  },
  {
   "cell_type": "code",
   "execution_count": 21,
   "metadata": {},
   "outputs": [
    {
     "name": "stdout",
     "output_type": "stream",
     "text": [
      "1\t2\t3\t4\t5\t6\t7\t8\t9\t10\r\n"
     ]
    }
   ],
   "source": [
    "!seq 10 | paste -s"
   ]
  },
  {
   "cell_type": "code",
   "execution_count": 22,
   "metadata": {},
   "outputs": [
    {
     "name": "stdout",
     "output_type": "stream",
     "text": [
      "1,2,3,4,5,6,7,8,9,10\r\n"
     ]
    }
   ],
   "source": [
    "!seq 10 | paste -s -d \",\""
   ]
  },
  {
   "cell_type": "code",
   "execution_count": 43,
   "metadata": {
    "scrolled": true
   },
   "outputs": [
    {
     "name": "stdout",
     "output_type": "stream",
     "text": [
      "/bin/sh: 1: Syntax error: \"(\" unexpected\r\n"
     ]
    }
   ],
   "source": [
    "!paste <(seq 10) <(cat optd_aircraft.csv)"
   ]
  },
  {
   "cell_type": "markdown",
   "metadata": {},
   "source": [
    "Este codigo pega como columnas, en este ejemplo (seq 10) pega como columna antes de (cat optd_aircraft.csv)"
   ]
  },
  {
   "cell_type": "markdown",
   "metadata": {},
   "source": [
    "tr - Esto nos sirve para reemplazar caracteres. utilize \"tr a A \" para reemplazar \"a\" por \"A\" en el texto o archivo, utilize \"tr -s a A\" para reemplazar todos los repetidos \"a\" por un solo \"A\", utilize \"tr -d a\" para borrar caracteres igual a \"a\", utilize \"tr -cd as\" para mostrar solo los caracteres igual a \"as\" en el texto o archivo, utilize tambien los codigos: [:alnum:] todo los digitos y letras [:alpha:] todas las letras,[:blank:]espacios en blanco, [:digit:] todo los digitos, [:lower:] todas las letras minusculas, [:upper:] todas las letras mayusculas"
   ]
  },
  {
   "cell_type": "code",
   "execution_count": 48,
   "metadata": {
    "scrolled": true
   },
   "outputs": [
    {
     "name": "stdout",
     "output_type": "stream",
     "text": [
      "master data science\r\n"
     ]
    }
   ],
   "source": [
    "!echo \"mmaster  daaaaata   science\" | tr -s \"[:blank:]\" | tr -s \"[:alnum:]\""
   ]
  },
  {
   "cell_type": "code",
   "execution_count": 49,
   "metadata": {
    "scrolled": false
   },
   "outputs": [
    {
     "name": "stdout",
     "output_type": "stream",
     "text": [
      "12319832"
     ]
    }
   ],
   "source": [
    "!echo \"master 123 data 1983 science 2\" | tr -cd \"[:digit:]\""
   ]
  },
  {
   "cell_type": "code",
   "execution_count": 50,
   "metadata": {
    "scrolled": true
   },
   "outputs": [
    {
     "name": "stdout",
     "output_type": "stream",
     "text": [
      "master  data  science \r\n"
     ]
    }
   ],
   "source": [
    "!echo \"master 123 data 1983 science 2\" | tr -d \"[:digit:]\""
   ]
  },
  {
   "cell_type": "markdown",
   "metadata": {},
   "source": [
    "grep - Esto nos sirve para mostrar lineas que siguen un patron. utilize \"grep -v a \" para mostrar las lineas que no contienen \"a\", utilize \"grep -i a\" para mostrar las lineas que contienen \"a\" sean mayusculas o minusculas, utilize \"grep -n a\" para mostrar las lineas que contienen \"a\" agregando el numero de linea, utilize \"grep -c a\" para mostrar el numero de lineas que contiene \"a\", utilize \"grep -H a\" para mostrar el nombre del archivo, utilize \"grep -E \" \" \" para mostrar WORKS con expresiones regulares"
   ]
  },
  {
   "cell_type": "code",
   "execution_count": 3,
   "metadata": {},
   "outputs": [
    {
     "name": "stdout",
     "output_type": "stream",
     "text": [
      "this line is the 1st lower case line in this file.\r",
      "\r\n",
      "Two lines above this are empty.\r",
      "\r\n",
      "And this is the last line.\r",
      "\r\n"
     ]
    }
   ],
   "source": [
    "!grep this Text_example.txt"
   ]
  },
  {
   "cell_type": "code",
   "execution_count": 51,
   "metadata": {},
   "outputs": [
    {
     "name": "stdout",
     "output_type": "stream",
     "text": [
      "THIS LINE IS THE 1ST UPPER CASE LINE IN THIS FILE.\r",
      "\r\n",
      "This Line Has All Its First Character Of The Word With Upper Case.\r",
      "\r\n",
      "\r",
      "\r\n",
      "\r",
      "\r\n"
     ]
    }
   ],
   "source": [
    "!grep -v this Text_example.txt"
   ]
  },
  {
   "cell_type": "code",
   "execution_count": 52,
   "metadata": {
    "scrolled": true
   },
   "outputs": [
    {
     "name": "stdout",
     "output_type": "stream",
     "text": [
      "THIS LINE IS THE 1ST UPPER CASE LINE IN THIS FILE.\r",
      "\r\n",
      "this line is the 1st lower case line in this file.\r",
      "\r\n",
      "This Line Has All Its First Character Of The Word With Upper Case.\r",
      "\r\n",
      "Two lines above this are empty.\r",
      "\r\n",
      "And this is the last line.\r",
      "\r\n"
     ]
    }
   ],
   "source": [
    "!grep -i this Text_example.txt"
   ]
  },
  {
   "cell_type": "code",
   "execution_count": 53,
   "metadata": {},
   "outputs": [
    {
     "name": "stdout",
     "output_type": "stream",
     "text": [
      "2:this line is the 1st lower case line in this file.\r",
      "\r\n",
      "6:Two lines above this are empty.\r",
      "\r\n",
      "7:And this is the last line.\r",
      "\r\n"
     ]
    }
   ],
   "source": [
    "!grep -n this Text_example.txt"
   ]
  },
  {
   "cell_type": "code",
   "execution_count": 54,
   "metadata": {
    "scrolled": true
   },
   "outputs": [
    {
     "name": "stdout",
     "output_type": "stream",
     "text": [
      "3\r\n"
     ]
    }
   ],
   "source": [
    "!grep -c this Text_example.txt"
   ]
  },
  {
   "cell_type": "code",
   "execution_count": 15,
   "metadata": {},
   "outputs": [
    {
     "name": "stdout",
     "output_type": "stream",
     "text": [
      "Text_example.txt:this line is the 1st lower case line in this file.\r",
      "\r\n",
      "Text_example.txt:Two lines above this are empty.\r",
      "\r\n",
      "Text_example.txt:And this is the last line.\r",
      "\r\n"
     ]
    }
   ],
   "source": [
    "!grep -H this Text_example.txt"
   ]
  },
  {
   "cell_type": "code",
   "execution_count": 55,
   "metadata": {},
   "outputs": [
    {
     "name": "stdout",
     "output_type": "stream",
     "text": [
      "THIS LINE IS THE 1ST UPPER CASE LINE IN THIS FILE.\r",
      "\r\n",
      "This Line Has All Its First Character Of The Word With Upper Case.\r",
      "\r\n",
      "Two lines above this are empty.\r",
      "\r\n"
     ]
    }
   ],
   "source": [
    "!grep -E \"^T\" Text_example.txt"
   ]
  },
  {
   "cell_type": "code",
   "execution_count": 58,
   "metadata": {
    "scrolled": true
   },
   "outputs": [
    {
     "name": "stdout",
     "output_type": "stream",
     "text": [
      "12\r\n"
     ]
    }
   ],
   "source": [
    "!seq 20 | grep -E \"[1-5]{2}\""
   ]
  },
  {
   "cell_type": "markdown",
   "metadata": {},
   "source": [
    "sed - Esto nos sirve para cambiar o reemplazar parte de un texto. utilize comando s para sustituir, despues palabra a sustituir entre \"/\", despues palabra que sustituira entre \"/\", utilize g para sustituir todas las palabras, utilize i para sustituir la primera letra, utilize \"sed -n 'ap;bp'\" para mostrar solamente los digitos \"a\" y \"b\"."
   ]
  },
  {
   "cell_type": "code",
   "execution_count": 60,
   "metadata": {},
   "outputs": [
    {
     "name": "stdout",
     "output_type": "stream",
     "text": [
      "Sunnight\r\n"
     ]
    }
   ],
   "source": [
    "!echo Sunday | sed s/day/night/"
   ]
  },
  {
   "cell_type": "code",
   "execution_count": 61,
   "metadata": {},
   "outputs": [
    {
     "name": "stdout",
     "output_type": "stream",
     "text": [
      "sunnight.night.night\r\n"
     ]
    }
   ],
   "source": [
    "!echo sunday.day.day | sed s/day/night/g"
   ]
  },
  {
   "cell_type": "code",
   "execution_count": 62,
   "metadata": {},
   "outputs": [
    {
     "name": "stdout",
     "output_type": "stream",
     "text": [
      "sunnight.day.day\r\n"
     ]
    }
   ],
   "source": [
    "!echo sunday.day.day | sed s/day/night/i"
   ]
  },
  {
   "cell_type": "code",
   "execution_count": 70,
   "metadata": {
    "scrolled": true
   },
   "outputs": [
    {
     "name": "stdout",
     "output_type": "stream",
     "text": [
      "2\r\n",
      "3\r\n",
      "4\r\n"
     ]
    }
   ],
   "source": [
    "!seq 10 | sed -n '2,4p'"
   ]
  },
  {
   "cell_type": "code",
   "execution_count": 72,
   "metadata": {
    "scrolled": true
   },
   "outputs": [
    {
     "name": "stdout",
     "output_type": "stream",
     "text": [
      "2\r\n",
      "4\r\n"
     ]
    }
   ],
   "source": [
    "!seq 10 | sed -n '2p;4p'"
   ]
  },
  {
   "cell_type": "markdown",
   "metadata": {},
   "source": [
    "Comandos con Archivos comprimidos"
   ]
  },
  {
   "cell_type": "markdown",
   "metadata": {},
   "source": [
    "las extensiones comunes de archivos son: .zip, .gzm .tar, .tar.gz, bz, bz2"
   ]
  },
  {
   "cell_type": "markdown",
   "metadata": {},
   "source": [
    "zip, unzip, zipinfo, zcat, zless, zgrep - Estos comandos trabajan con la extension (.zip)"
   ]
  },
  {
   "cell_type": "markdown",
   "metadata": {},
   "source": [
    "zip - Esto nos sirve para comprimir archivos con extension (.zip)"
   ]
  },
  {
   "cell_type": "markdown",
   "metadata": {},
   "source": [
    "unzip - Esto nos sirve para descomprimir archivos con extension (.zip)"
   ]
  },
  {
   "cell_type": "markdown",
   "metadata": {},
   "source": [
    "zipinfo - Esto nos sirve para ver que archivos estan comprimidos e informacion adicional"
   ]
  },
  {
   "cell_type": "markdown",
   "metadata": {},
   "source": [
    "zcat - Esto nos sirve para ver el contenido del archivo (.zip)"
   ]
  },
  {
   "cell_type": "markdown",
   "metadata": {},
   "source": [
    "zless - Esto nos sirve para buscar determinado texto en el archivo (.zip)"
   ]
  },
  {
   "cell_type": "markdown",
   "metadata": {},
   "source": [
    "zgrep - Esto nos sirve para mostrar lineas que siguen un patron en el archivo (.zip)"
   ]
  },
  {
   "cell_type": "code",
   "execution_count": 6,
   "metadata": {},
   "outputs": [
    {
     "name": "stdout",
     "output_type": "stream",
     "text": [
      "  adding: optd_aircraft_backup.csv (deflated 68%)\n",
      "  adding: Text_example.txt (deflated 30%)\n",
      "  adding: Numbers_Names.txt (deflated 11%)\n"
     ]
    }
   ],
   "source": [
    "!zip Files_Comprimidos optd_aircraft_backup.csv Text_example.txt Numbers_Names.txt"
   ]
  },
  {
   "cell_type": "code",
   "execution_count": 7,
   "metadata": {
    "scrolled": true
   },
   "outputs": [
    {
     "name": "stdout",
     "output_type": "stream",
     "text": [
      "total 116\r\n",
      "drwxr-xr-x 4 dsc dsc  4096 dic 29 00:28 \u001b[0m\u001b[01;34m.\u001b[0m/\r\n",
      "drwxr-xr-x 7 dsc dsc  4096 dic 23 01:38 \u001b[01;34m..\u001b[0m/\r\n",
      "drwxr-xr-x 2 dsc dsc  4096 dic 23 01:37 \u001b[01;34mcopy_directory\u001b[0m/\r\n",
      "-rw-r--r-- 1 dsc dsc  6627 dic 29 00:28 \u001b[01;31mFiles_Comprimidos.zip\u001b[0m\r\n",
      "drwxr-xr-x 8 dsc dsc  4096 dic 29 00:26 \u001b[01;34m.git\u001b[0m/\r\n",
      "-rw-r--r-- 1 dsc dsc    12 dic 23 02:05 hello.txt\r\n",
      "-rw-r--r-- 1 dsc dsc    65 dic 26 23:35 Numbers_Names.txt\r\n",
      "-rw-r--r-- 1 dsc dsc 18612 dic 23 02:01 optd_aircraft_backup.csv\r\n",
      "-rwxrwxrwx 1 dsc dsc   460 dic 26 23:17 \u001b[01;32moptd_aircraft.csv\u001b[0m*\r\n",
      "-rw-r--r-- 1 dsc dsc   790 dic 27 02:56 README.md\r\n",
      "-rw-r--r-- 1 dsc dsc 21611 dic 23 02:08 Shell_Basic.ipynb\r\n",
      "-rw-r--r-- 1 dsc dsc 27593 dic 27 02:52 Shell_Intermediate.ipynb\r\n",
      "-rwxr-xr-x 1 dsc dsc   237 dic 27 01:26 \u001b[01;32mText_example.txt\u001b[0m*\r\n"
     ]
    }
   ],
   "source": [
    "ls -la"
   ]
  },
  {
   "cell_type": "code",
   "execution_count": 10,
   "metadata": {},
   "outputs": [
    {
     "name": "stdout",
     "output_type": "stream",
     "text": [
      "Archive:  Files_Comprimidos.zip\r\n",
      "  Length      Date    Time    Name\r\n",
      "---------  ---------- -----   ----\r\n",
      "    18612  2018-12-23 02:01   optd_aircraft_backup.csv\r\n",
      "      237  2018-12-27 01:26   Text_example.txt\r\n",
      "       65  2018-12-26 23:35   Numbers_Names.txt\r\n",
      "---------                     -------\r\n",
      "    18914                     3 files\r\n"
     ]
    }
   ],
   "source": [
    "!unzip -l Files_Comprimidos.zip"
   ]
  },
  {
   "cell_type": "code",
   "execution_count": 11,
   "metadata": {},
   "outputs": [
    {
     "name": "stdout",
     "output_type": "stream",
     "text": [
      "Archive:  Files_Comprimidos.zip\r\n",
      "Zip file size: 6627 bytes, number of entries: 3\r\n",
      "-rw-r--r--  3.0 unx    18612 tx defN 18-Dec-23 02:01 optd_aircraft_backup.csv\r\n",
      "-rwxr-xr-x  3.0 unx      237 tx defN 18-Dec-27 01:26 Text_example.txt\r\n",
      "-rw-r--r--  3.0 unx       65 tx defN 18-Dec-26 23:35 Numbers_Names.txt\r\n",
      "3 files, 18914 bytes uncompressed, 6107 bytes compressed:  67.7%\r\n"
     ]
    }
   ],
   "source": [
    "!zipinfo Files_Comprimidos.zip"
   ]
  },
  {
   "cell_type": "code",
   "execution_count": 12,
   "metadata": {
    "scrolled": true
   },
   "outputs": [
    {
     "name": "stdout",
     "output_type": "stream",
     "text": [
      "iata_code,manufacturer,model,iata_group,iata_category,icao_code,nb_engines,aircraft_type\n",
      "100,Fokker,100,100,2J,F100,2,J\n",
      "141,BAe,146-100,146,4J,B461,4,J\n",
      "142,BAe,BAE Systems 146-200 Passenger,146,4J,B462,4,J\n",
      "143,BAe,146-300,146,4J,B463,4,J\n",
      "146,BAe,146,,,,,\n",
      "14F,BAe,146 Freighter (-100/200/300QT & QC),,,,,\n",
      "14X,BAe,146 Freighter (-100QT & QC),14F,4J,B461,4,J\n",
      "14Y,BAe,146 Freighter (-200QT & QC),14F,4J,B462,4,J\n",
      "14Z,BAe,146 Freighter (-300QT & QC),14F,4J,B463,4,J\n",
      "19D,Airbus,A319,,,,,\n",
      "310,Airbus,A310,,,,,\n",
      "312,Airbus,A310-200,310,2J,A310,2,J\n",
      "313,Airbus,A310-300,310,2J,A310,2,J\n",
      "318,Airbus,A318,32S,2J,A318,2,J\n",
      "319,Airbus,A319,32S,2J,A319,2,J\n",
      "31F,Airbus,A310F,,,,,\n",
      "31W,Airbus,A319 (Sharklets),,,,,\n",
      "31X,Airbus,A310-200F,31F,2J,A310,2,J\n",
      "31Y,Airbus,A310-300F,31F,2J,A310,2,J\n",
      "320,Airbus,A320-100/200,32S,2J,A320,2,J\n",
      "321,Airbus,A321-100/200,32S,2J,A321,2,J\n",
      "\u001b[K:\u001b[K5;246mFiles_Comprimidos.zip\u001b[0m\u001b[K\u0007"
     ]
    }
   ],
   "source": [
    "!zless Files_Comprimidos.zip"
   ]
  },
  {
   "cell_type": "code",
   "execution_count": 19,
   "metadata": {},
   "outputs": [
    {
     "name": "stdout",
     "output_type": "stream",
     "text": [
      "gzip: Files_Comprimidos.zip has more than one entry--rest ignored\r\n",
      "iata_code,manufacturer,model,iata_group,iata_category,icao_code,nb_engines,aircraft_type\r\n",
      "100,Fokker,100,100,2J,F100,2,J\r\n",
      "141,BAe,146-100,146,4J,B461,4,J\r\n",
      "142,BAe,BAE Systems 146-200 Passenger,146,4J,B462,4,J\r\n",
      "143,BAe,146-300,146,4J,B463,4,J\r\n",
      "146,BAe,146,,,,,\r\n",
      "14F,BAe,146 Freighter (-100/200/300QT & QC),,,,,\r\n",
      "14X,BAe,146 Freighter (-100QT & QC),14F,4J,B461,4,J\r\n",
      "14Y,BAe,146 Freighter (-200QT & QC),14F,4J,B462,4,J\r\n",
      "14Z,BAe,146 Freighter (-300QT & QC),14F,4J,B463,4,J\r\n"
     ]
    }
   ],
   "source": [
    "!zcat Files_Comprimidos.zip | head"
   ]
  },
  {
   "cell_type": "code",
   "execution_count": 27,
   "metadata": {
    "scrolled": true
   },
   "outputs": [
    {
     "name": "stdout",
     "output_type": "stream",
     "text": [
      "Files_Comprimidos.zip:250:D10,McDonnell Douglas,DC-10,,,,,\r\n",
      "Files_Comprimidos.zip:251:D11,McDonnell Douglas,DC-10-10/15,D10,3J,DC10,3,J\r\n",
      "Files_Comprimidos.zip:252:D14,McDonnell Douglas,DC-10-40,,,,,\r\n",
      "Files_Comprimidos.zip:253:D1C,McDonnell Douglas,DC-10-30/40,D10,3J,DC10,3,J\r\n",
      "Files_Comprimidos.zip:254:D1F,McDonnell Douglas,DC-10 Freighter,,,,,\r\n",
      "Files_Comprimidos.zip:255:D1M,McDonnell Douglas,DC-10 Combi,D1M,3J,DC10,3,J\r\n",
      "Files_Comprimidos.zip:256:D1X,McDonnell Douglas,DC-10-10 Freighter,D1F,3J,DC10,3,J\r\n",
      "Files_Comprimidos.zip:257:D1Y,McDonnell Douglas,DC-10-30 / 40 Freighter,D1F,3J,DC10,3,J\r\n",
      "Files_Comprimidos.zip:393:M11,McDonnell Douglas,MD-11,M11,3J,MD11,3,J\r\n",
      "Files_Comprimidos.zip:394:M1F,McDonnell Douglas,MD-11 Freighter,M1F,3J,MD11,3,J\r\n"
     ]
    }
   ],
   "source": [
    "!zgrep -n -H \"McDonnell\" Files_Comprimidos.zip | head"
   ]
  },
  {
   "cell_type": "code",
   "execution_count": 28,
   "metadata": {},
   "outputs": [
    {
     "name": "stdout",
     "output_type": "stream",
     "text": [
      "Archive:  Files_Comprimidos.zip\r\n",
      "  inflating: Numbers_Names.txt       \r\n",
      "1\r\n",
      "2\r\n",
      "3\r\n",
      "4\r\n",
      "5\r\n",
      "6\r\n",
      "7\r\n",
      "8\r\n"
     ]
    }
   ],
   "source": [
    "!unzip -c Files_Comprimidos.zip Numbers_Names.txt | head"
   ]
  },
  {
   "cell_type": "code",
   "execution_count": 29,
   "metadata": {},
   "outputs": [
    {
     "name": "stdout",
     "output_type": "stream",
     "text": [
      "1\r\n",
      "2\r\n",
      "3\r\n",
      "4\r\n",
      "5\r\n",
      "6\r\n",
      "7\r\n",
      "8\r\n",
      "9\r\n",
      "10\r\n"
     ]
    }
   ],
   "source": [
    "!unzip -p Files_Comprimidos.zip Numbers_Names.txt | head"
   ]
  },
  {
   "cell_type": "markdown",
   "metadata": {},
   "source": [
    "gzip, zunzip, zcat, zless, zgrep - Estos comandos trabajan con la extension (.gz)"
   ]
  },
  {
   "cell_type": "markdown",
   "metadata": {},
   "source": [
    "gzip - Esto nos sirve para comprimir archivos con extension (.gz), utilize \"gzip -d \" para descomprimir"
   ]
  },
  {
   "cell_type": "markdown",
   "metadata": {},
   "source": [
    "gunzip - Esto nos sirve para descomprimir archivos con extension (.gz)"
   ]
  },
  {
   "cell_type": "markdown",
   "metadata": {},
   "source": [
    "zcat - Esto nos sirve para ver el contenido del archivo (.gz)"
   ]
  },
  {
   "cell_type": "markdown",
   "metadata": {},
   "source": [
    "zless - Esto nos sirve para buscar determinado texto en el archivo (.gz)"
   ]
  },
  {
   "cell_type": "markdown",
   "metadata": {},
   "source": [
    "zgrep - Esto nos sirve para mostrar lineas que siguen un patron en el archivo (.gz)"
   ]
  },
  {
   "cell_type": "code",
   "execution_count": 23,
   "metadata": {},
   "outputs": [],
   "source": [
    "!gzip optd_aircraft_backup.csv"
   ]
  },
  {
   "cell_type": "code",
   "execution_count": 24,
   "metadata": {},
   "outputs": [
    {
     "name": "stdout",
     "output_type": "stream",
     "text": [
      "total 104\r\n",
      "drwxr-xr-x 4 dsc dsc  4096 dic 29 00:50 \u001b[0m\u001b[01;34m.\u001b[0m/\r\n",
      "drwxr-xr-x 7 dsc dsc  4096 dic 23 01:38 \u001b[01;34m..\u001b[0m/\r\n",
      "drwxr-xr-x 2 dsc dsc  4096 dic 23 01:37 \u001b[01;34mcopy_directory\u001b[0m/\r\n",
      "-rw-r--r-- 1 dsc dsc  6627 dic 29 00:28 \u001b[01;31mFiles_Comprimidos.zip\u001b[0m\r\n",
      "drwxr-xr-x 8 dsc dsc  4096 dic 29 00:36 \u001b[01;34m.git\u001b[0m/\r\n",
      "-rw-r--r-- 1 dsc dsc    12 dic 23 02:05 hello.txt\r\n",
      "-rw-r--r-- 1 dsc dsc    65 dic 26 23:35 Numbers_Names.txt\r\n",
      "-rw-r--r-- 1 dsc dsc  5927 dic 23 02:01 \u001b[01;31moptd_aircraft_backup.csv.gz\u001b[0m\r\n",
      "-rwxrwxrwx 1 dsc dsc   460 dic 26 23:17 \u001b[01;32moptd_aircraft.csv\u001b[0m*\r\n",
      "-rw-r--r-- 1 dsc dsc   790 dic 27 02:56 README.md\r\n",
      "-rw-r--r-- 1 dsc dsc 21611 dic 23 02:08 Shell_Basic.ipynb\r\n",
      "-rw-r--r-- 1 dsc dsc 27593 dic 27 02:52 Shell_Intermediate.ipynb\r\n",
      "-rwxr-xr-x 1 dsc dsc   237 dic 27 01:26 \u001b[01;32mText_example.txt\u001b[0m*\r\n"
     ]
    }
   ],
   "source": [
    "ls -la"
   ]
  },
  {
   "cell_type": "code",
   "execution_count": 26,
   "metadata": {},
   "outputs": [
    {
     "name": "stdout",
     "output_type": "stream",
     "text": [
      "         compressed        uncompressed  ratio uncompressed_name\r\n",
      "               5927               18612  68.4% optd_aircraft_backup.csv\r\n"
     ]
    }
   ],
   "source": [
    "!gzip -l optd_aircraft_backup.csv.gz"
   ]
  },
  {
   "cell_type": "code",
   "execution_count": 31,
   "metadata": {},
   "outputs": [
    {
     "name": "stdout",
     "output_type": "stream",
     "text": [
      "gzip: optd_aircraft_backup.csv: No such file or directory\r\n",
      "gzip: Text_example.txt: No such file or directory\r\n",
      "gzip: Numbers_Names.txt: No such file or directory\r\n"
     ]
    }
   ],
   "source": [
    "!gzip optd_aircraft_backup.csv Text_example.txt Numbers_Names.txt"
   ]
  },
  {
   "cell_type": "markdown",
   "metadata": {},
   "source": [
    "bzip2, bunzip2, bzcat, bzless, bzgrep - Estos comandos trabajan con la extension (.bz2)"
   ]
  },
  {
   "cell_type": "markdown",
   "metadata": {},
   "source": [
    "bzip2 - Esto nos sirve para comprimir archivos hacia extension (.bz2), utilize \"bzip2 -d \" para descomprimir archivos con extencion (.bz2)"
   ]
  },
  {
   "cell_type": "code",
   "execution_count": 40,
   "metadata": {},
   "outputs": [],
   "source": [
    "!bzip2 -k optd_aircraft_backup.csv"
   ]
  },
  {
   "cell_type": "code",
   "execution_count": 41,
   "metadata": {},
   "outputs": [
    {
     "name": "stdout",
     "output_type": "stream",
     "text": [
      "total 124\r\n",
      "drwxr-xr-x 4 dsc dsc  4096 dic 29 00:58 \u001b[0m\u001b[01;34m.\u001b[0m/\r\n",
      "drwxr-xr-x 7 dsc dsc  4096 dic 23 01:38 \u001b[01;34m..\u001b[0m/\r\n",
      "drwxr-xr-x 2 dsc dsc  4096 dic 23 01:37 \u001b[01;34mcopy_directory\u001b[0m/\r\n",
      "-rw-r--r-- 1 dsc dsc  6627 dic 29 00:28 \u001b[01;31mFiles_Comprimidos.zip\u001b[0m\r\n",
      "drwxr-xr-x 8 dsc dsc  4096 dic 29 00:36 \u001b[01;34m.git\u001b[0m/\r\n",
      "-rw-r--r-- 1 dsc dsc    12 dic 23 02:05 hello.txt\r\n",
      "-rw-r--r-- 1 dsc dsc    65 dic 26 23:35 Numbers_Names.txt\r\n",
      "-rw-r--r-- 1 dsc dsc 18612 dic 23 02:01 optd_aircraft_backup.csv\r\n",
      "-rw-r--r-- 1 dsc dsc  5900 dic 23 02:01 \u001b[01;31moptd_aircraft_backup.csv.bz2\u001b[0m\r\n",
      "-rwxrwxrwx 1 dsc dsc   460 dic 26 23:17 \u001b[01;32moptd_aircraft.csv\u001b[0m*\r\n",
      "-rw-r--r-- 1 dsc dsc   790 dic 27 02:56 README.md\r\n",
      "-rw-r--r-- 1 dsc dsc 21611 dic 23 02:08 Shell_Basic.ipynb\r\n",
      "-rw-r--r-- 1 dsc dsc 27593 dic 27 02:52 Shell_Intermediate.ipynb\r\n",
      "-rwxr-xr-x 1 dsc dsc   237 dic 27 01:26 \u001b[01;32mText_example.txt\u001b[0m*\r\n"
     ]
    }
   ],
   "source": [
    "ls -la"
   ]
  },
  {
   "cell_type": "markdown",
   "metadata": {},
   "source": [
    "tar - Estos comandos trabajan con la extension (.tar)\n",
    "-c = crear;\n",
    "-r = agregar;\n",
    "-x = extracto;\n",
    "-t = lista / vista;\n",
    "-f = archivo archivado;\n",
    "-v: verbosa;\n",
    "-z = zip;\n",
    "-j = bzip2"
   ]
  },
  {
   "cell_type": "markdown",
   "metadata": {},
   "source": [
    "Comandos con archivos csv"
   ]
  },
  {
   "cell_type": "markdown",
   "metadata": {},
   "source": [
    "csvlook - Esto renderiza un archivo CSV en la consola como una tabla de ancho fijo.\n",
    "-d = delimitador;\n",
    "-H = el archivo csv no tiene fila de encabezado;\n",
    "-l = mostrar números de línea"
   ]
  },
  {
   "cell_type": "markdown",
   "metadata": {},
   "source": [
    "csvstat - Esto Imprime estadísticas descriptivas para cada columna en un archivo CSV.\n",
    "-d = delimitador;\n",
    "-H = el archivo csv no tiene fila de encabezado;\n",
    "-l = mostrar números de línea"
   ]
  },
  {
   "cell_type": "code",
   "execution_count": 47,
   "metadata": {},
   "outputs": [
    {
     "name": "stdout",
     "output_type": "stream",
     "text": [
      "| iata_code | manufacturer | model                               | iata_group | iata_category | icao_code | nb_engines | aircraft_type |\r\n",
      "| --------- | ------------ | ----------------------------------- | ---------- | ------------- | --------- | ---------- | ------------- |\r\n",
      "| 100       | Fokker       | 100                                 | 100        | 2J            | F100      |          2 | J             |\r\n",
      "| 141       | BAe          | 146-100                             | 146        | 4J            | B461      |          4 | J             |\r\n",
      "| 142       | BAe          | BAE Systems 146-200 Passenger       | 146        | 4J            | B462      |          4 | J             |\r\n",
      "| 143       | BAe          | 146-300                             | 146        | 4J            | B463      |          4 | J             |\r\n",
      "| 146       | BAe          | 146                                 |            |               |           |            |               |\r\n",
      "| 14F       | BAe          | 146 Freighter (-100/200/300QT & QC) |            |               |           |            |               |\r\n",
      "| 14X       | BAe          | 146 Freighter (-100QT & QC)         | 14F        | 4J            | B461      |          4 | J             |\r\n",
      "| 14Y       | BAe          | 146 Freighter (-200QT & QC)         | 14F        | 4J            | B462      |          4 | J             |\r\n"
     ]
    }
   ],
   "source": [
    "!csvlook optd_aircraft.csv | head"
   ]
  },
  {
   "cell_type": "code",
   "execution_count": 48,
   "metadata": {},
   "outputs": [
    {
     "name": "stdout",
     "output_type": "stream",
     "text": [
      "| iata_code | manufacturer | model                               | iata_group | iata_category | icao_code | nb_engines | aircraft_type |\r\n",
      "| --------- | ------------ | ----------------------------------- | ---------- | ------------- | --------- | ---------- | ------------- |\r\n",
      "| 100       | Fokker       | 100                                 | 100        | 2J            | F100      |          2 | J             |\r\n",
      "| 141       | BAe          | 146-100                             | 146        | 4J            | B461      |          4 | J             |\r\n",
      "| 142       | BAe          | BAE Systems 146-200 Passenger       | 146        | 4J            | B462      |          4 | J             |\r\n",
      "| 143       | BAe          | 146-300                             | 146        | 4J            | B463      |          4 | J             |\r\n",
      "| 146       | BAe          | 146                                 |            |               |           |            |               |\r\n",
      "| 14F       | BAe          | 146 Freighter (-100/200/300QT & QC) |            |               |           |            |               |\r\n",
      "| 14X       | BAe          | 146 Freighter (-100QT & QC)         | 14F        | 4J            | B461      |          4 | J             |\r\n",
      "| 14Y       | BAe          | 146 Freighter (-200QT & QC)         | 14F        | 4J            | B462      |          4 | J             |\r\n"
     ]
    }
   ],
   "source": [
    "!csvlook -d \",\" optd_aircraft.csv | head"
   ]
  },
  {
   "cell_type": "code",
   "execution_count": 53,
   "metadata": {},
   "outputs": [
    {
     "name": "stdout",
     "output_type": "stream",
     "text": [
      "| line_numbers | iata_code | manufacturer | model                               | iata_group | iata_category | icao_code | nb_engines | aircraft_type |\r\n",
      "| ------------ | --------- | ------------ | ----------------------------------- | ---------- | ------------- | --------- | ---------- | ------------- |\r\n",
      "|            1 | 100       | Fokker       | 100                                 | 100        | 2J            | F100      |          2 | J             |\r\n",
      "|            2 | 141       | BAe          | 146-100                             | 146        | 4J            | B461      |          4 | J             |\r\n",
      "|            3 | 142       | BAe          | BAE Systems 146-200 Passenger       | 146        | 4J            | B462      |          4 | J             |\r\n",
      "|            4 | 143       | BAe          | 146-300                             | 146        | 4J            | B463      |          4 | J             |\r\n",
      "|            5 | 146       | BAe          | 146                                 |            |               |           |            |               |\r\n",
      "|            6 | 14F       | BAe          | 146 Freighter (-100/200/300QT & QC) |            |               |           |            |               |\r\n",
      "|            7 | 14X       | BAe          | 146 Freighter (-100QT & QC)         | 14F        | 4J            | B461      |          4 | J             |\r\n",
      "|            8 | 14Y       | BAe          | 146 Freighter (-200QT & QC)         | 14F        | 4J            | B462      |          4 | J             |\r\n"
     ]
    }
   ],
   "source": [
    "!csvlook -ld \",\" optd_aircraft.csv | head"
   ]
  },
  {
   "cell_type": "code",
   "execution_count": 51,
   "metadata": {},
   "outputs": [
    {
     "name": "stdout",
     "output_type": "stream",
     "text": [
      "  1. \"iata_code\"\r\n",
      "\r\n",
      "\tType of data:          Text\r\n",
      "\tContains null values:  False\r\n",
      "\tUnique values:         9\r\n",
      "\tLongest value:         3 characters\r\n",
      "\tMost common values:    100 (1x)\r\n",
      "\t                       141 (1x)\r\n",
      "\t                       142 (1x)\r\n",
      "\t                       143 (1x)\r\n"
     ]
    }
   ],
   "source": [
    "!csvstat -d \",\" optd_aircraft.csv | head"
   ]
  },
  {
   "cell_type": "code",
   "execution_count": 54,
   "metadata": {},
   "outputs": [
    {
     "name": "stdout",
     "output_type": "stream",
     "text": [
      "  2. \"manufacturer\"\r\n",
      "\r\n",
      "\tType of data:          Text\r\n",
      "\tContains null values:  False\r\n",
      "\tUnique values:         2\r\n",
      "\tLongest value:         6 characters\r\n",
      "\tMost common values:    BAe (8x)\r\n",
      "\t                       Fokker (1x)\r\n",
      "\r\n",
      "  4. \"iata_group\"\r\n"
     ]
    }
   ],
   "source": [
    "!csvstat -d \",\" -c 2,4 optd_aircraft.csv | head"
   ]
  },
  {
   "cell_type": "markdown",
   "metadata": {},
   "source": [
    "csvcut - Esto nos sirve para filtrar y truncar archivos CSV.\n",
    "-c = columna;\n",
    "-n = Mostrar nombres de columna e índices"
   ]
  },
  {
   "cell_type": "code",
   "execution_count": 56,
   "metadata": {},
   "outputs": [
    {
     "name": "stdout",
     "output_type": "stream",
     "text": [
      "  1: iata_code\r\n",
      "  2: manufacturer\r\n",
      "  3: model\r\n",
      "  4: iata_group\r\n",
      "  5: iata_category\r\n",
      "  6: icao_code\r\n",
      "  7: nb_engines\r\n",
      "  8: aircraft_type\r\n"
     ]
    }
   ],
   "source": [
    "!csvcut -n optd_aircraft.csv"
   ]
  },
  {
   "cell_type": "code",
   "execution_count": 59,
   "metadata": {},
   "outputs": [
    {
     "name": "stdout",
     "output_type": "stream",
     "text": [
      "manufacturer,model,iata_group\r\n",
      "Fokker,100,100\r\n",
      "BAe,146-100,146\r\n",
      "BAe,BAE Systems 146-200 Passenger,146\r\n",
      "BAe,146-300,146\r\n",
      "BAe,146,\r\n",
      "BAe,146 Freighter (-100/200/300QT & QC),\r\n",
      "BAe,146 Freighter (-100QT & QC),14F\r\n",
      "BAe,146 Freighter (-200QT & QC),14F\r\n",
      "BAe,146 Freighter (-300QT & QC),14F\r\n"
     ]
    }
   ],
   "source": [
    "!csvcut -d \",\" -c 2,3,4 optd_aircraft.csv"
   ]
  },
  {
   "cell_type": "markdown",
   "metadata": {},
   "source": [
    "csvgrep - Buscar archivos CSV.\n",
    "-m = patrón;\n",
    "-i = invertir el resultado;\n",
    "-a = cualquier columna listada debe coincidir con la cadena de búsqueda (por defecto es todo)"
   ]
  },
  {
   "cell_type": "code",
   "execution_count": 64,
   "metadata": {},
   "outputs": [
    {
     "name": "stdout",
     "output_type": "stream",
     "text": [
      "iata_code,manufacturer,model,iata_group,iata_category,icao_code,nb_engines,aircraft_type\r\n",
      "380,Airbus,A380,,,,,\r\n"
     ]
    }
   ],
   "source": [
    "!csvgrep -d \",\" -c iata_code -m 380 optd_aircraft_backup.csv"
   ]
  },
  {
   "cell_type": "code",
   "execution_count": 66,
   "metadata": {},
   "outputs": [
    {
     "name": "stdout",
     "output_type": "stream",
     "text": [
      "iata_code,manufacturer,model,iata_group,iata_category,icao_code,nb_engines,aircraft_type\r\n",
      "100,Fokker,100,100,2J,F100,2,J\r\n",
      "141,BAe,146-100,146,4J,B461,4,J\r\n",
      "142,BAe,BAE Systems 146-200 Passenger,146,4J,B462,4,J\r\n",
      "143,BAe,146-300,146,4J,B463,4,J\r\n",
      "146,BAe,146,,,,,\r\n",
      "14F,BAe,146 Freighter (-100/200/300QT & QC),,,,,\r\n",
      "14X,BAe,146 Freighter (-100QT & QC),14F,4J,B461,4,J\r\n",
      "14Y,BAe,146 Freighter (-200QT & QC),14F,4J,B462,4,J\r\n",
      "14Z,BAe,146 Freighter (-300QT & QC),14F,4J,B463,4,J\r\n"
     ]
    }
   ],
   "source": [
    "!csvgrep -d \",\" -c iata_code -im 380 optd_aircraft_backup.csv | head"
   ]
  },
  {
   "cell_type": "code",
   "execution_count": 67,
   "metadata": {},
   "outputs": [
    {
     "name": "stdout",
     "output_type": "stream",
     "text": [
      "iata_code,manufacturer,model,iata_group,iata_category,icao_code,nb_engines,aircraft_type\r\n",
      "380,Airbus,A380,,,,,\r\n",
      "388,Airbus,A380,380,4J,A388,4,J\r\n",
      "38F,Airbus,A380F,38F,4J,A388,4,J\r\n"
     ]
    }
   ],
   "source": [
    "!csvgrep -d \",\" -a -c 1,2,3 -m 380 optd_aircraft_backup.csv | head"
   ]
  },
  {
   "cell_type": "markdown",
   "metadata": {},
   "source": [
    "csvsort - Ordenar archivos CSV.\n",
    "-r = marcha atrás;\n",
    "-n = Mostrar nombres de columna e índices"
   ]
  },
  {
   "cell_type": "code",
   "execution_count": 68,
   "metadata": {},
   "outputs": [
    {
     "name": "stdout",
     "output_type": "stream",
     "text": [
      "  1: iata_code\r\n",
      "  2: manufacturer\r\n",
      "  3: model\r\n",
      "  4: iata_group\r\n",
      "  5: iata_category\r\n",
      "  6: icao_code\r\n",
      "  7: nb_engines\r\n",
      "  8: aircraft_type\r\n"
     ]
    }
   ],
   "source": [
    "!csvsort -n -d \",\" optd_aircraft.csv"
   ]
  },
  {
   "cell_type": "code",
   "execution_count": 73,
   "metadata": {},
   "outputs": [
    {
     "name": "stdout",
     "output_type": "stream",
     "text": [
      "iata_code,manufacturer,model,iata_group,iata_category,icao_code,nb_engines,aircraft_type\r\n",
      "14Z,BAe,146 Freighter (-300QT & QC),14F,4J,B463,4,J\r\n",
      "14Y,BAe,146 Freighter (-200QT & QC),14F,4J,B462,4,J\r\n",
      "14X,BAe,146 Freighter (-100QT & QC),14F,4J,B461,4,J\r\n",
      "14F,BAe,146 Freighter (-100/200/300QT & QC),,,,,\r\n",
      "146,BAe,146,,,,,\r\n",
      "143,BAe,146-300,146,4J,B463,4,J\r\n",
      "142,BAe,BAE Systems 146-200 Passenger,146,4J,B462,4,J\r\n",
      "141,BAe,146-100,146,4J,B461,4,J\r\n",
      "100,Fokker,100,100,2J,F100,2,J\r\n"
     ]
    }
   ],
   "source": [
    "!csvsort -d \",\" -c 1 -r optd_aircraft.csv"
   ]
  },
  {
   "cell_type": "markdown",
   "metadata": {},
   "source": [
    "csvformat - Convierte un archivo CSV a un formato de salida personalizado.\n",
    "-D = delimitador de salida"
   ]
  },
  {
   "cell_type": "code",
   "execution_count": 74,
   "metadata": {},
   "outputs": [],
   "source": [
    "!csvformat -d \",\" -D \"~\" ./optd_aircraft.csv > ./optd_aircraft_new.csv"
   ]
  },
  {
   "cell_type": "code",
   "execution_count": 76,
   "metadata": {},
   "outputs": [
    {
     "name": "stdout",
     "output_type": "stream",
     "text": [
      "total 128\r\n",
      "drwxr-xr-x 4 dsc dsc  4096 dic 29 01:31 \u001b[0m\u001b[01;34m.\u001b[0m/\r\n",
      "drwxr-xr-x 7 dsc dsc  4096 dic 23 01:38 \u001b[01;34m..\u001b[0m/\r\n",
      "drwxr-xr-x 2 dsc dsc  4096 dic 23 01:37 \u001b[01;34mcopy_directory\u001b[0m/\r\n",
      "-rw-r--r-- 1 dsc dsc  6627 dic 29 00:28 \u001b[01;31mFiles_Comprimidos.zip\u001b[0m\r\n",
      "drwxr-xr-x 8 dsc dsc  4096 dic 29 01:31 \u001b[01;34m.git\u001b[0m/\r\n",
      "-rw-r--r-- 1 dsc dsc    12 dic 23 02:05 hello.txt\r\n",
      "-rw-r--r-- 1 dsc dsc    65 dic 26 23:35 Numbers_Names.txt\r\n",
      "-rw-r--r-- 1 dsc dsc 18612 dic 23 02:01 optd_aircraft_backup.csv\r\n",
      "-rw-r--r-- 1 dsc dsc  5900 dic 23 02:01 \u001b[01;31moptd_aircraft_backup.csv.bz2\u001b[0m\r\n",
      "-rwxrwxrwx 1 dsc dsc   460 dic 26 23:17 \u001b[01;32moptd_aircraft.csv\u001b[0m*\r\n",
      "-rw-r--r-- 1 dsc dsc   460 dic 29 01:31 optd_aircraft_new.csv\r\n",
      "-rw-r--r-- 1 dsc dsc   790 dic 27 02:56 README.md\r\n",
      "-rw-r--r-- 1 dsc dsc 21611 dic 23 02:08 Shell_Basic.ipynb\r\n",
      "-rw-r--r-- 1 dsc dsc 27593 dic 27 02:52 Shell_Intermediate.ipynb\r\n",
      "-rwxr-xr-x 1 dsc dsc   237 dic 27 01:26 \u001b[01;32mText_example.txt\u001b[0m*\r\n"
     ]
    }
   ],
   "source": [
    "ls -la"
   ]
  }
 ],
 "metadata": {
  "kernelspec": {
   "display_name": "Python 3",
   "language": "python",
   "name": "python3"
  },
  "language_info": {
   "codemirror_mode": {
    "name": "ipython",
    "version": 3
   },
   "file_extension": ".py",
   "mimetype": "text/x-python",
   "name": "python",
   "nbconvert_exporter": "python",
   "pygments_lexer": "ipython3",
   "version": "3.6.4"
  }
 },
 "nbformat": 4,
 "nbformat_minor": 2
}
