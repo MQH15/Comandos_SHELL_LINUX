{
 "cells": [
  {
   "cell_type": "markdown",
   "metadata": {},
   "source": [
    "# Ejercicios Resueltos"
   ]
  },
  {
   "cell_type": "markdown",
   "metadata": {},
   "source": [
    "    Parte 1"
   ]
  },
  {
   "cell_type": "code",
   "execution_count": 2,
   "metadata": {},
   "outputs": [
    {
     "name": "stdout",
     "output_type": "stream",
     "text": [
      "/home/dsc/Repos/Comandos_SHELL_LINUX\n"
     ]
    }
   ],
   "source": [
    "cd ./Repos/Comandos_SHELL_LINUX/"
   ]
  },
  {
   "cell_type": "markdown",
   "metadata": {},
   "source": [
    "- Cree un directorio \"first_dir\" en Comandos_SHELL_LINUX."
   ]
  },
  {
   "cell_type": "code",
   "execution_count": 3,
   "metadata": {},
   "outputs": [],
   "source": [
    "!mkdir first_dir"
   ]
  },
  {
   "cell_type": "markdown",
   "metadata": {},
   "source": [
    "- Cree un archivo vacío \"text_file.txt\" dentro del directorio \"first_dir\"."
   ]
  },
  {
   "cell_type": "code",
   "execution_count": 6,
   "metadata": {},
   "outputs": [
    {
     "name": "stdout",
     "output_type": "stream",
     "text": [
      "/home/dsc/Repos/Comandos_SHELL_LINUX/first_dir\n"
     ]
    }
   ],
   "source": [
    "cd ./first_dir/"
   ]
  },
  {
   "cell_type": "code",
   "execution_count": 7,
   "metadata": {},
   "outputs": [],
   "source": [
    "!touch text_file.txt"
   ]
  },
  {
   "cell_type": "markdown",
   "metadata": {},
   "source": [
    "- Agregue permisos de ejecución para group usuarios y permisos de escritura a otros usuarios en \"text_file.txt\"."
   ]
  },
  {
   "cell_type": "code",
   "execution_count": 8,
   "metadata": {},
   "outputs": [],
   "source": [
    "!chmod g+x,o+w text_file.txt"
   ]
  },
  {
   "cell_type": "code",
   "execution_count": 9,
   "metadata": {},
   "outputs": [
    {
     "name": "stdout",
     "output_type": "stream",
     "text": [
      "total 8\r\n",
      "drwxr-xr-x 2 dsc dsc 4096 ene  6 23:52 \u001b[0m\u001b[01;34m.\u001b[0m/\r\n",
      "drwxr-xr-x 4 dsc dsc 4096 ene  6 23:53 \u001b[01;34m..\u001b[0m/\r\n",
      "-rw-r-xrw- 1 dsc dsc    0 ene  6 23:52 \u001b[01;32mtext_file.txt\u001b[0m*\r\n"
     ]
    }
   ],
   "source": [
    "ls -la"
   ]
  },
  {
   "cell_type": "markdown",
   "metadata": {},
   "source": [
    "- Cree 3 subdirectorios dentro de \"first_dir\": \"sub1\", \"sub2\", \"text_file\"."
   ]
  },
  {
   "cell_type": "code",
   "execution_count": 14,
   "metadata": {},
   "outputs": [],
   "source": [
    "mkdir sub1 sub2 text_file"
   ]
  },
  {
   "cell_type": "code",
   "execution_count": 15,
   "metadata": {},
   "outputs": [
    {
     "name": "stdout",
     "output_type": "stream",
     "text": [
      "total 20\r\n",
      "drwxr-xr-x 5 dsc dsc 4096 ene  7 00:00 \u001b[0m\u001b[01;34m.\u001b[0m/\r\n",
      "drwxr-xr-x 4 dsc dsc 4096 ene  6 23:53 \u001b[01;34m..\u001b[0m/\r\n",
      "drwxr-xr-x 2 dsc dsc 4096 ene  7 00:00 \u001b[01;34msub1\u001b[0m/\r\n",
      "drwxr-xr-x 2 dsc dsc 4096 ene  7 00:00 \u001b[01;34msub2\u001b[0m/\r\n",
      "drwxr-xr-x 2 dsc dsc 4096 ene  7 00:00 \u001b[01;34mtext_file\u001b[0m/\r\n",
      "-rw-r-xrw- 1 dsc dsc    0 ene  6 23:52 \u001b[01;32mtext_file.txt\u001b[0m*\r\n"
     ]
    }
   ],
   "source": [
    "ls -la"
   ]
  },
  {
   "cell_type": "markdown",
   "metadata": {},
   "source": [
    "- Copie el archivo \"text_file.txt\" en el directorio \"sub1\"."
   ]
  },
  {
   "cell_type": "code",
   "execution_count": 16,
   "metadata": {},
   "outputs": [],
   "source": [
    "!cp text_file.txt ~/Repos/Comandos_SHELL_LINUX/first_dir/sub1/text_file.txt"
   ]
  },
  {
   "cell_type": "code",
   "execution_count": 17,
   "metadata": {},
   "outputs": [
    {
     "name": "stdout",
     "output_type": "stream",
     "text": [
      "/home/dsc/Repos/Comandos_SHELL_LINUX/first_dir/sub1\n"
     ]
    }
   ],
   "source": [
    "cd ./sub1/"
   ]
  },
  {
   "cell_type": "code",
   "execution_count": 18,
   "metadata": {},
   "outputs": [
    {
     "name": "stdout",
     "output_type": "stream",
     "text": [
      "total 8\r\n",
      "drwxr-xr-x 2 dsc dsc 4096 ene  7 00:01 \u001b[0m\u001b[01;34m.\u001b[0m/\r\n",
      "drwxr-xr-x 5 dsc dsc 4096 ene  7 00:00 \u001b[01;34m..\u001b[0m/\r\n",
      "-rw-r-xr-- 1 dsc dsc    0 ene  7 00:01 \u001b[01;32mtext_file.txt\u001b[0m*\r\n"
     ]
    }
   ],
   "source": [
    "ls -la"
   ]
  },
  {
   "cell_type": "markdown",
   "metadata": {},
   "source": [
    "- Mueva el \"text_file.txt\" a sub2 bajo el nombre \"text_file.txt.2\"."
   ]
  },
  {
   "cell_type": "code",
   "execution_count": 19,
   "metadata": {},
   "outputs": [
    {
     "name": "stdout",
     "output_type": "stream",
     "text": [
      "/home/dsc/Repos/Comandos_SHELL_LINUX/first_dir\n"
     ]
    }
   ],
   "source": [
    "cd .."
   ]
  },
  {
   "cell_type": "code",
   "execution_count": 20,
   "metadata": {},
   "outputs": [],
   "source": [
    "mv text_file.txt ~/Repos/Comandos_SHELL_LINUX/first_dir/sub2/text_file.txt.2"
   ]
  },
  {
   "cell_type": "code",
   "execution_count": 21,
   "metadata": {},
   "outputs": [
    {
     "name": "stdout",
     "output_type": "stream",
     "text": [
      "/home/dsc/Repos/Comandos_SHELL_LINUX/first_dir/sub2\n"
     ]
    }
   ],
   "source": [
    "cd ./sub2"
   ]
  },
  {
   "cell_type": "code",
   "execution_count": 22,
   "metadata": {},
   "outputs": [
    {
     "name": "stdout",
     "output_type": "stream",
     "text": [
      "total 8\r\n",
      "drwxr-xr-x 2 dsc dsc 4096 ene  7 00:04 \u001b[0m\u001b[01;34m.\u001b[0m/\r\n",
      "drwxr-xr-x 5 dsc dsc 4096 ene  7 00:04 \u001b[01;34m..\u001b[0m/\r\n",
      "-rw-r-xrw- 1 dsc dsc    0 ene  6 23:52 \u001b[01;32mtext_file.txt.2\u001b[0m*\r\n"
     ]
    }
   ],
   "source": [
    "ls -la"
   ]
  },
  {
   "cell_type": "code",
   "execution_count": 23,
   "metadata": {},
   "outputs": [
    {
     "name": "stdout",
     "output_type": "stream",
     "text": [
      "/home/dsc/Repos/Comandos_SHELL_LINUX/first_dir\n"
     ]
    }
   ],
   "source": [
    "cd .."
   ]
  },
  {
   "cell_type": "code",
   "execution_count": 24,
   "metadata": {},
   "outputs": [
    {
     "name": "stdout",
     "output_type": "stream",
     "text": [
      "total 20\r\n",
      "drwxr-xr-x 5 dsc dsc 4096 ene  7 00:04 \u001b[0m\u001b[01;34m.\u001b[0m/\r\n",
      "drwxr-xr-x 4 dsc dsc 4096 ene  6 23:53 \u001b[01;34m..\u001b[0m/\r\n",
      "drwxr-xr-x 2 dsc dsc 4096 ene  7 00:01 \u001b[01;34msub1\u001b[0m/\r\n",
      "drwxr-xr-x 2 dsc dsc 4096 ene  7 00:04 \u001b[01;34msub2\u001b[0m/\r\n",
      "drwxr-xr-x 2 dsc dsc 4096 ene  7 00:00 \u001b[01;34mtext_file\u001b[0m/\r\n"
     ]
    }
   ],
   "source": [
    "ls -la"
   ]
  },
  {
   "cell_type": "markdown",
   "metadata": {},
   "source": [
    "- Copie todo el directorio \"sub1\" al directorio \"sub3\"."
   ]
  },
  {
   "cell_type": "code",
   "execution_count": 26,
   "metadata": {},
   "outputs": [],
   "source": [
    "!cp -r sub1 sub3"
   ]
  },
  {
   "cell_type": "code",
   "execution_count": 27,
   "metadata": {},
   "outputs": [
    {
     "name": "stdout",
     "output_type": "stream",
     "text": [
      "total 24\r\n",
      "drwxr-xr-x 6 dsc dsc 4096 ene  7 00:06 \u001b[0m\u001b[01;34m.\u001b[0m/\r\n",
      "drwxr-xr-x 4 dsc dsc 4096 ene  6 23:53 \u001b[01;34m..\u001b[0m/\r\n",
      "drwxr-xr-x 2 dsc dsc 4096 ene  7 00:01 \u001b[01;34msub1\u001b[0m/\r\n",
      "drwxr-xr-x 2 dsc dsc 4096 ene  7 00:04 \u001b[01;34msub2\u001b[0m/\r\n",
      "drwxr-xr-x 2 dsc dsc 4096 ene  7 00:06 \u001b[01;34msub3\u001b[0m/\r\n",
      "drwxr-xr-x 2 dsc dsc 4096 ene  7 00:00 \u001b[01;34mtext_file\u001b[0m/\r\n"
     ]
    }
   ],
   "source": [
    "ls -la"
   ]
  },
  {
   "cell_type": "markdown",
   "metadata": {},
   "source": [
    "- Cambie el nombre de archivo de \"first_dir /sub2/text_file.txt.2\" a \"first_dir /sub2/text_file.txt.backup\"."
   ]
  },
  {
   "cell_type": "code",
   "execution_count": 28,
   "metadata": {},
   "outputs": [
    {
     "name": "stdout",
     "output_type": "stream",
     "text": [
      "/home/dsc/Repos/Comandos_SHELL_LINUX/first_dir/sub2\n"
     ]
    }
   ],
   "source": [
    "cd ./sub2"
   ]
  },
  {
   "cell_type": "code",
   "execution_count": 29,
   "metadata": {},
   "outputs": [],
   "source": [
    "!mv text_file.txt.2 ~/Repos/Comandos_SHELL_LINUX/first_dir/sub2/text_file.txt.backup"
   ]
  },
  {
   "cell_type": "code",
   "execution_count": 30,
   "metadata": {},
   "outputs": [
    {
     "name": "stdout",
     "output_type": "stream",
     "text": [
      "total 8\r\n",
      "drwxr-xr-x 2 dsc dsc 4096 ene  7 00:08 \u001b[0m\u001b[01;34m.\u001b[0m/\r\n",
      "drwxr-xr-x 6 dsc dsc 4096 ene  7 00:06 \u001b[01;34m..\u001b[0m/\r\n",
      "-rw-r-xrw- 1 dsc dsc    0 ene  6 23:52 \u001b[01;32mtext_file.txt.backup\u001b[0m*\r\n"
     ]
    }
   ],
   "source": [
    "ls -la"
   ]
  },
  {
   "cell_type": "markdown",
   "metadata": {},
   "source": [
    "- Mueva \"first_dir /sub2/text_file.txt.backup\" al directorio \"first_dir\" como archivo oculto."
   ]
  },
  {
   "cell_type": "code",
   "execution_count": 33,
   "metadata": {},
   "outputs": [],
   "source": [
    "!mv text_file.txt.backup ~/Repos/Comandos_SHELL_LINUX/first_dir/.text_file.txt.backup"
   ]
  },
  {
   "cell_type": "code",
   "execution_count": 34,
   "metadata": {},
   "outputs": [
    {
     "name": "stdout",
     "output_type": "stream",
     "text": [
      "/home/dsc/Repos/Comandos_SHELL_LINUX/first_dir\n"
     ]
    }
   ],
   "source": [
    "cd .."
   ]
  },
  {
   "cell_type": "code",
   "execution_count": 35,
   "metadata": {},
   "outputs": [
    {
     "name": "stdout",
     "output_type": "stream",
     "text": [
      "total 24\r\n",
      "drwxr-xr-x 6 dsc dsc 4096 ene  7 00:09 \u001b[0m\u001b[01;34m.\u001b[0m/\r\n",
      "drwxr-xr-x 4 dsc dsc 4096 ene  6 23:53 \u001b[01;34m..\u001b[0m/\r\n",
      "drwxr-xr-x 2 dsc dsc 4096 ene  7 00:01 \u001b[01;34msub1\u001b[0m/\r\n",
      "drwxr-xr-x 2 dsc dsc 4096 ene  7 00:09 \u001b[01;34msub2\u001b[0m/\r\n",
      "drwxr-xr-x 2 dsc dsc 4096 ene  7 00:06 \u001b[01;34msub3\u001b[0m/\r\n",
      "drwxr-xr-x 2 dsc dsc 4096 ene  7 00:00 \u001b[01;34mtext_file\u001b[0m/\r\n",
      "-rw-r-xrw- 1 dsc dsc    0 ene  6 23:52 \u001b[01;32m.text_file.txt.backup\u001b[0m*\r\n"
     ]
    }
   ],
   "source": [
    "ls -la"
   ]
  },
  {
   "cell_type": "markdown",
   "metadata": {},
   "source": [
    "- Borre el subdirectorio “sub2”."
   ]
  },
  {
   "cell_type": "code",
   "execution_count": 36,
   "metadata": {},
   "outputs": [],
   "source": [
    "!rm -rf sub2"
   ]
  },
  {
   "cell_type": "code",
   "execution_count": 37,
   "metadata": {
    "scrolled": false
   },
   "outputs": [
    {
     "name": "stdout",
     "output_type": "stream",
     "text": [
      "total 20\r\n",
      "drwxr-xr-x 5 dsc dsc 4096 ene  7 00:10 \u001b[0m\u001b[01;34m.\u001b[0m/\r\n",
      "drwxr-xr-x 4 dsc dsc 4096 ene  6 23:53 \u001b[01;34m..\u001b[0m/\r\n",
      "drwxr-xr-x 2 dsc dsc 4096 ene  7 00:01 \u001b[01;34msub1\u001b[0m/\r\n",
      "drwxr-xr-x 2 dsc dsc 4096 ene  7 00:06 \u001b[01;34msub3\u001b[0m/\r\n",
      "drwxr-xr-x 2 dsc dsc 4096 ene  7 00:00 \u001b[01;34mtext_file\u001b[0m/\r\n",
      "-rw-r-xrw- 1 dsc dsc    0 ene  6 23:52 \u001b[01;32m.text_file.txt.backup\u001b[0m*\r\n"
     ]
    }
   ],
   "source": [
    "ls -la"
   ]
  },
  {
   "cell_type": "markdown",
   "metadata": {},
   "source": [
    "    Parte 2"
   ]
  },
  {
   "cell_type": "markdown",
   "metadata": {},
   "source": [
    "- Vaya al archivo Text_example.txt para generar un nuevo archivo con el mismo contenido pero con el número de línea al comienzo de cada línea."
   ]
  },
  {
   "cell_type": "code",
   "execution_count": 40,
   "metadata": {},
   "outputs": [
    {
     "name": "stdout",
     "output_type": "stream",
     "text": [
      "/home/dsc/Repos/Comandos_SHELL_LINUX\n"
     ]
    }
   ],
   "source": [
    "cd .."
   ]
  },
  {
   "cell_type": "code",
   "execution_count": 50,
   "metadata": {},
   "outputs": [],
   "source": [
    "!cat -n Text_example.txt > Text_example_line.txt"
   ]
  },
  {
   "cell_type": "code",
   "execution_count": 51,
   "metadata": {},
   "outputs": [
    {
     "name": "stdout",
     "output_type": "stream",
     "text": [
      "     1\tTHIS LINE IS THE 1ST UPPER CASE LINE IN THIS FILE.\r",
      "\r\n",
      "     2\tthis line is the 1st lower case line in this file.\r",
      "\r\n",
      "     3\tThis Line Has All Its First Character Of The Word With Upper Case.\r",
      "\r\n",
      "     4\t\r",
      "\r\n",
      "     5\t\r",
      "\r\n",
      "     6\tTwo lines above this are empty.\r",
      "\r\n",
      "     7\tAnd this is the last line.\r",
      "\r\n"
     ]
    }
   ],
   "source": [
    "!head Text_example_line.txt"
   ]
  },
  {
   "cell_type": "markdown",
   "metadata": {},
   "source": [
    "- Genere un nuevo archivo con el doble del contenido de \"Text_example.txt\" dentro (un contenido de texto completo después de otro)."
   ]
  },
  {
   "cell_type": "code",
   "execution_count": 53,
   "metadata": {},
   "outputs": [],
   "source": [
    "!cat Text_example_line.txt Text_example_line.txt > Text_example_doble.txt"
   ]
  },
  {
   "cell_type": "code",
   "execution_count": 54,
   "metadata": {},
   "outputs": [
    {
     "name": "stdout",
     "output_type": "stream",
     "text": [
      "     1\tTHIS LINE IS THE 1ST UPPER CASE LINE IN THIS FILE.\r",
      "\r\n",
      "     2\tthis line is the 1st lower case line in this file.\r",
      "\r\n",
      "     3\tThis Line Has All Its First Character Of The Word With Upper Case.\r",
      "\r\n",
      "     4\t\r",
      "\r\n",
      "     5\t\r",
      "\r\n",
      "     6\tTwo lines above this are empty.\r",
      "\r\n",
      "     7\tAnd this is the last line.\r",
      "\r\n",
      "     1\tTHIS LINE IS THE 1ST UPPER CASE LINE IN THIS FILE.\r",
      "\r\n",
      "     2\tthis line is the 1st lower case line in this file.\r",
      "\r\n",
      "     3\tThis Line Has All Its First Character Of The Word With Upper Case.\r",
      "\r\n",
      "     4\t\r",
      "\r\n",
      "     5\t\r",
      "\r\n",
      "     6\tTwo lines above this are empty.\r",
      "\r\n",
      "     7\tAnd this is the last line.\r",
      "\r\n"
     ]
    }
   ],
   "source": [
    "cat Text_example_doble.txt"
   ]
  },
  {
   "cell_type": "markdown",
   "metadata": {},
   "source": [
    "- Genere un archivo con fecha y hora de creación y el nombre del ser que lo creó en la primera línea. Algo así: \"# Este archivo es creado por KSCHOOL el: domingo 26 de noviembre 10:31:06 CET 2017\""
   ]
  },
  {
   "cell_type": "code",
   "execution_count": 55,
   "metadata": {},
   "outputs": [
    {
     "name": "stdout",
     "output_type": "stream",
     "text": [
      "# Este archivo es creado por KSCHOOL el: lun ene  7 00:46:46 CET 2019\r\n"
     ]
    }
   ],
   "source": [
    "!echo \"# Este archivo es creado por KSCHOOL el: $(date)\""
   ]
  },
  {
   "cell_type": "markdown",
   "metadata": {},
   "source": [
    "    Parte 3"
   ]
  },
  {
   "cell_type": "markdown",
   "metadata": {},
   "source": [
    "- Guarde la información de los 3 archivos más grandes de la carpeta archivos_pesados en three_largest_file.txt."
   ]
  },
  {
   "cell_type": "code",
   "execution_count": 56,
   "metadata": {},
   "outputs": [
    {
     "name": "stdout",
     "output_type": "stream",
     "text": [
      "/home/dsc/Repos/Comandos_SHELL_LINUX/Archivos_Pesados\n"
     ]
    }
   ],
   "source": [
    "cd Archivos_Pesados/"
   ]
  },
  {
   "cell_type": "code",
   "execution_count": 57,
   "metadata": {},
   "outputs": [
    {
     "name": "stdout",
     "output_type": "stream",
     "text": [
      "total 190208\r\n",
      "drwxr-x--- 2 dsc dsc     4096 ene  7 00:52 \u001b[0m\u001b[01;34m.\u001b[0m/\r\n",
      "drwxr-xr-x 5 dsc dsc     4096 ene  7 00:51 \u001b[01;34m..\u001b[0m/\r\n",
      "-rwxr-x--- 1 dsc dsc 23061340 ene  7 00:51 \u001b[01;32mOn_Time_On_Time_Performance_2015_1.zip\u001b[0m*\r\n",
      "-rwxr-x--- 1 dsc dsc 21230105 ene  7 00:51 \u001b[01;32mOn_Time_On_Time_Performance_2015_2.zip\u001b[0m*\r\n",
      "-rwxr-x--- 1 dsc dsc 24811186 ene  7 00:51 \u001b[01;32mOn_Time_On_Time_Performance_2015_3.zip\u001b[0m*\r\n",
      "-rwxr-x--- 1 dsc dsc 23625261 ene  7 00:51 \u001b[01;32mOn_Time_On_Time_Performance_2015_4.zip\u001b[0m*\r\n",
      "-rwxr-x--- 1 dsc dsc 24334057 ene  7 00:51 \u001b[01;32mOn_Time_On_Time_Performance_2015_5.zip\u001b[0m*\r\n",
      "-rwxr-x--- 1 dsc dsc 25758350 ene  7 00:51 \u001b[01;32mOn_Time_On_Time_Performance_2015_6.zip\u001b[0m*\r\n",
      "-rwxr-x--- 1 dsc dsc 26204213 ene  7 00:51 \u001b[01;32mOn_Time_On_Time_Performance_2015_7.zip\u001b[0m*\r\n",
      "-rwxr-x--- 1 dsc dsc 25726054 ene  7 00:51 \u001b[01;32mOn_Time_On_Time_Performance_2015_8.zip\u001b[0m*\r\n"
     ]
    }
   ],
   "source": [
    "ls -la"
   ]
  },
  {
   "cell_type": "code",
   "execution_count": 62,
   "metadata": {},
   "outputs": [],
   "source": [
    "ls -lS1 | head -n 4 > three_largest_file.txt"
   ]
  },
  {
   "cell_type": "code",
   "execution_count": 63,
   "metadata": {},
   "outputs": [
    {
     "name": "stdout",
     "output_type": "stream",
     "text": [
      "total 190200\r\n",
      "-rwxr-x--- 1 dsc dsc 26204213 ene  7 00:51 \u001b[0m\u001b[01;32mOn_Time_On_Time_Performance_2015_7.zip\u001b[0m*\r\n",
      "-rwxr-x--- 1 dsc dsc 25758350 ene  7 00:51 \u001b[01;32mOn_Time_On_Time_Performance_2015_6.zip\u001b[0m*\r\n",
      "-rwxr-x--- 1 dsc dsc 25726054 ene  7 00:51 \u001b[01;32mOn_Time_On_Time_Performance_2015_8.zip\u001b[0m*\r\n"
     ]
    }
   ],
   "source": [
    "cat three_largest_file.txt"
   ]
  },
  {
   "cell_type": "markdown",
   "metadata": {},
   "source": [
    "- Guarde los últimos 20 comandos utilizados en la línea de comandos en un archivo. (Indica el historial de uso y redirige la salida)."
   ]
  },
  {
   "cell_type": "code",
   "execution_count": 66,
   "metadata": {},
   "outputs": [
    {
     "name": "stdout",
     "output_type": "stream",
     "text": [
      "/home/dsc/Repos/Comandos_SHELL_LINUX\n"
     ]
    }
   ],
   "source": [
    "cd .."
   ]
  },
  {
   "cell_type": "code",
   "execution_count": 68,
   "metadata": {},
   "outputs": [],
   "source": [
    "cat ~/.history | tail -n 20 > History.txt"
   ]
  },
  {
   "cell_type": "markdown",
   "metadata": {},
   "source": [
    "- Imprima el contenido de Text_example.txt excepto las primeras 2 y las últimas 3 líneas."
   ]
  },
  {
   "cell_type": "code",
   "execution_count": 73,
   "metadata": {},
   "outputs": [
    {
     "name": "stdout",
     "output_type": "stream",
     "text": [
      "     3\tThis Line Has All Its First Character Of The Word With Upper Case.\r",
      "\r\n",
      "     4\t\r",
      "\r\n",
      "     5\t\r",
      "\r\n",
      "     6\tTwo lines above this are empty.\r",
      "\r\n",
      "     7\tAnd this is the last line.\r",
      "\r\n",
      "     1\tTHIS LINE IS THE 1ST UPPER CASE LINE IN THIS FILE.\r",
      "\r\n",
      "     2\tthis line is the 1st lower case line in this file.\r",
      "\r\n",
      "     3\tThis Line Has All Its First Character Of The Word With Upper Case.\r",
      "\r\n",
      "     4\t\r",
      "\r\n"
     ]
    }
   ],
   "source": [
    "cat Text_example_doble.txt | head -n -3 | tail -n +3"
   ]
  },
  {
   "cell_type": "markdown",
   "metadata": {},
   "source": [
    "- ¿Cuántas líneas tiene el archivo optd_aircraft.csv?"
   ]
  },
  {
   "cell_type": "code",
   "execution_count": 76,
   "metadata": {},
   "outputs": [
    {
     "name": "stdout",
     "output_type": "stream",
     "text": [
      "458 optd_aircraft_backup.csv\r\n"
     ]
    }
   ],
   "source": [
    "!wc -l optd_aircraft_backup.csv"
   ]
  },
  {
   "cell_type": "markdown",
   "metadata": {},
   "source": [
    "- ¿Cuántas palabras tienen las primeras 5 líneas de optd_aircraft.csv?"
   ]
  },
  {
   "cell_type": "code",
   "execution_count": 77,
   "metadata": {},
   "outputs": [
    {
     "name": "stdout",
     "output_type": "stream",
     "text": [
      "1068 optd_aircraft_backup.csv\r\n"
     ]
    }
   ],
   "source": [
    "!wc -w optd_aircraft_backup.csv | head -n 5"
   ]
  },
  {
   "cell_type": "markdown",
   "metadata": {},
   "source": [
    "    Parte 4"
   ]
  },
  {
   "cell_type": "markdown",
   "metadata": {},
   "source": [
    "- Encuentre todos los archivos SÓLO en los subdirectorios de su directorio de inicio que se modificaron en los últimos 60 minutos."
   ]
  },
  {
   "cell_type": "code",
   "execution_count": 79,
   "metadata": {},
   "outputs": [
    {
     "name": "stdout",
     "output_type": "stream",
     "text": [
      "/home/dsc/Shell_Basic.ipynb\r\n",
      "/home/dsc/Shell_Intermediate.ipynb\r\n",
      "/home/dsc/.mozilla/firefox/2eyyfwfo.default/SiteSecurityServiceState.txt\r\n",
      "/home/dsc/.mozilla/firefox/2eyyfwfo.default/prefs.js\r\n",
      "/home/dsc/.mozilla/firefox/2eyyfwfo.default/datareporting/aborted-session-ping\r\n",
      "/home/dsc/.mozilla/firefox/2eyyfwfo.default/datareporting/archived/2019-01/1546818848927.e45eb1a8-334b-49e1-9dea-3f83af471526.modules.jsonlz4\r\n",
      "/home/dsc/Repos/Comandos_SHELL_LINUX/History.txt\r\n",
      "/home/dsc/Repos/Comandos_SHELL_LINUX/Text_example_line.txt\r\n",
      "/home/dsc/Repos/Comandos_SHELL_LINUX/Text_example_doble.txt\r\n",
      "/home/dsc/Repos/Comandos_SHELL_LINUX/Archivos_Pesados/On_Time_On_Time_Performance_2015_2.zip\r\n",
      "find: ‘standard output’: Broken pipe\r\n",
      "find: write error\r\n"
     ]
    }
   ],
   "source": [
    "!find ~ -type f -mmin -60 | head"
   ]
  },
  {
   "cell_type": "markdown",
   "metadata": {},
   "source": [
    "- Encuentre todos los archivos vacíos dentro de los subdirectorios de su directorio de inicio que NO tienen permisos de lectura-escritura-ejecución otorgados a todos los usuarios"
   ]
  },
  {
   "cell_type": "code",
   "execution_count": 82,
   "metadata": {},
   "outputs": [
    {
     "name": "stdout",
     "output_type": "stream",
     "text": [
      "./first_dir/sub1/text_file.txt\r\n",
      "./first_dir/sub3/text_file.txt\r\n",
      "./first_dir/.text_file.txt.backup\r\n"
     ]
    }
   ],
   "source": [
    "!find -type f -empty ! -perm 777"
   ]
  },
  {
   "cell_type": "markdown",
   "metadata": {},
   "source": [
    "- Expanda el comando anterior para otorgar estos permisos usando la opción \"ok\"."
   ]
  },
  {
   "cell_type": "code",
   "execution_count": 85,
   "metadata": {},
   "outputs": [],
   "source": [
    "!find -type f -empty ! -perm 777 -ok chmod 777 {} \\;"
   ]
  },
  {
   "cell_type": "code",
   "execution_count": 89,
   "metadata": {},
   "outputs": [
    {
     "name": "stdout",
     "output_type": "stream",
     "text": [
      "./first_dir/sub1/text_file.txt\r\n",
      "./first_dir/sub3/text_file.txt\r\n",
      "./first_dir/.text_file.txt.backup\r\n"
     ]
    }
   ],
   "source": [
    "!find -type f -empty -perm 777"
   ]
  },
  {
   "cell_type": "markdown",
   "metadata": {},
   "source": [
    "- Obtenga los 3 archivos más grandes por subdirectorio dentro de Arhivos_pesados"
   ]
  },
  {
   "cell_type": "code",
   "execution_count": 104,
   "metadata": {},
   "outputs": [
    {
     "name": "stdout",
     "output_type": "stream",
     "text": [
      "/home/dsc/Repos/Comandos_SHELL_LINUX/Archivos_Pesados/\r\n",
      "On_Time_On_Time_Performance_2015_7.zip\r\n",
      "On_Time_On_Time_Performance_2015_6.zip\r\n",
      "On_Time_On_Time_Performance_2015_8.zip\r\n"
     ]
    }
   ],
   "source": [
    "!find ~/Repos/Comandos_SHELL_LINUX/Archivos_Pesados/ -type d -exec echo {} \\; -exec sh -c \"ls -S {} | head -n 3\" {} \\;"
   ]
  }
 ],
 "metadata": {
  "kernelspec": {
   "display_name": "Python 3",
   "language": "python",
   "name": "python3"
  },
  "language_info": {
   "codemirror_mode": {
    "name": "ipython",
    "version": 3
   },
   "file_extension": ".py",
   "mimetype": "text/x-python",
   "name": "python",
   "nbconvert_exporter": "python",
   "pygments_lexer": "ipython3",
   "version": "3.6.4"
  }
 },
 "nbformat": 4,
 "nbformat_minor": 2
}
