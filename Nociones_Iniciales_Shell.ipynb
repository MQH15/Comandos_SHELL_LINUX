{
 "cells": [
  {
   "cell_type": "markdown",
   "metadata": {},
   "source": [
    "# Iniciando con comandos en Terminal desde LINUX"
   ]
  },
  {
   "cell_type": "markdown",
   "metadata": {},
   "source": [
    "Consejos y trucos para usar comandos en linux"
   ]
  },
  {
   "cell_type": "markdown",
   "metadata": {},
   "source": [
    "- Puede usar el comando clear para borrar el terminal si se llena con demasiados comandos.\n",
    "- TAB se puede utilizar para rellenar en el terminal. Por ejemplo, solo necesita escribir \"cd Doc\" y luego TAB y la terminal llena el resto y lo hace \"cd Documents\".\n",
    "- Ctrl + C se puede usar para detener cualquier comando en el terminal de forma segura. Si no se detiene con eso, entonces se puede usar Ctrl + Z para forzar su detención.\n",
    "- Puede salir de la terminal usando el comando exit.\n",
    "- Puede apagar o reiniciar la computadora usando el comando sudo halt y sudo reboot."
   ]
  },
  {
   "cell_type": "markdown",
   "metadata": {},
   "source": [
    "1. Comandos Basicos"
   ]
  },
  {
   "cell_type": "markdown",
   "metadata": {},
   "source": [
    "pwd - Esto nos da la ruta raiz de la PC."
   ]
  },
  {
   "cell_type": "code",
   "execution_count": 1,
   "metadata": {},
   "outputs": [
    {
     "data": {
      "text/plain": [
       "'/home/dsc'"
      ]
     },
     "execution_count": 1,
     "metadata": {},
     "output_type": "execute_result"
    }
   ],
   "source": [
    "pwd"
   ]
  },
  {
   "cell_type": "markdown",
   "metadata": {},
   "source": [
    "En este caso la ruta raiz es la carpeta home y dentro de ella la carpeta dsc"
   ]
  },
  {
   "cell_type": "markdown",
   "metadata": {},
   "source": [
    "ls - Esto nos permite saber que archivos hay en el directorio en que se encuentra, para ver los archivos ocultos se puede agregar ls -a."
   ]
  },
  {
   "cell_type": "code",
   "execution_count": 2,
   "metadata": {
    "scrolled": false
   },
   "outputs": [
    {
     "name": "stdout",
     "output_type": "stream",
     "text": [
      "\u001b[0m\u001b[01;34manaconda3\u001b[0m/                                      \u001b[01;34mMusic\u001b[0m/\r\n",
      "Creando_Repositorio_GITHUB_from_TERMINAL.ipynb  Nociones_Iniciales_Shell.ipynb\r\n",
      "\u001b[01;34mData\u001b[0m/                                           Notebook_Python.ipynb\r\n",
      "derby.log                                       Notebook_Python_Sabado_15.ipynb\r\n",
      "\u001b[01;34mDesktop\u001b[0m/                                        \u001b[01;34mPictures\u001b[0m/\r\n",
      "\u001b[01;34mDocuments\u001b[0m/                                      \u001b[01;34mpostgres\u001b[0m/\r\n",
      "\u001b[01;34mDownloads\u001b[0m/                                      \u001b[01;34mPublic\u001b[0m/\r\n",
      "\u001b[01;31mfile_comprimido.zip\u001b[0m                             \u001b[01;34m__pycache__\u001b[0m/\r\n",
      "\u001b[01;34mfirst_dir\u001b[0m/                                      \u001b[01;34mR\u001b[0m/\r\n",
      "hello_word.py                                   \u001b[01;34mRepos\u001b[0m/\r\n",
      "\u001b[01;34mmetastore_db\u001b[0m/                                   \u001b[01;34mTemplates\u001b[0m/\r\n",
      "\u001b[01;34mMichael_Data_Science\u001b[0m/                           \u001b[01;34mVideos\u001b[0m/\r\n"
     ]
    }
   ],
   "source": [
    "ls"
   ]
  },
  {
   "cell_type": "code",
   "execution_count": 3,
   "metadata": {
    "scrolled": true
   },
   "outputs": [
    {
     "name": "stdout",
     "output_type": "stream",
     "text": [
      "\u001b[0m\u001b[01;34m.\u001b[0m/                                              \u001b[01;34mMichael_Data_Science\u001b[0m/\r\n",
      "\u001b[01;34m..\u001b[0m/                                             \u001b[01;34m.mozilla\u001b[0m/\r\n",
      "\u001b[01;34manaconda3\u001b[0m/                                      \u001b[01;34mMusic\u001b[0m/\r\n",
      ".bash_logout                                    \u001b[01;34m.nano\u001b[0m/\r\n",
      ".bashrc                                         Nociones_Iniciales_Shell.ipynb\r\n",
      ".bashrc-anaconda3.bak                           Notebook_Python.ipynb\r\n",
      "\u001b[01;34m.cache\u001b[0m/                                         Notebook_Python_Sabado_15.ipynb\r\n",
      "\u001b[01;34m.cinnamon\u001b[0m/                                      .pam_environment\r\n",
      "\u001b[01;34m.conda\u001b[0m/                                         \u001b[01;34mPictures\u001b[0m/\r\n",
      "\u001b[01;34m.config\u001b[0m/                                        \u001b[01;34mpostgres\u001b[0m/\r\n",
      "Creando_Repositorio_GITHUB_from_TERMINAL.ipynb  .profile\r\n",
      "\u001b[01;34mData\u001b[0m/                                           .psql_history\r\n",
      "derby.log                                       \u001b[01;34mPublic\u001b[0m/\r\n",
      "\u001b[01;34mDesktop\u001b[0m/                                        \u001b[01;34m__pycache__\u001b[0m/\r\n",
      "\u001b[01;34mDocuments\u001b[0m/                                      .python_history\r\n",
      "\u001b[01;34mDownloads\u001b[0m/                                      \u001b[01;34mR\u001b[0m/\r\n",
      ".emacs                                          \u001b[01;34mRepos\u001b[0m/\r\n",
      "\u001b[01;34m.emacs.d\u001b[0m/                                       .Rhistory\r\n",
      "\u001b[01;31mfile_comprimido.zip\u001b[0m                             \u001b[01;34m.rstudio-desktop\u001b[0m/\r\n",
      "\u001b[01;34mfirst_dir\u001b[0m/                                      .scala_history\r\n",
      "\u001b[01;34m.gconf\u001b[0m/                                         \u001b[01;34m.ssh\u001b[0m/\r\n",
      ".gitconfig                                      .sudo_as_admin_successful\r\n",
      "\u001b[01;34m.gnupg\u001b[0m/                                         \u001b[01;34mTemplates\u001b[0m/\r\n",
      "hello_word.py                                   .vboxclient-clipboard.pid\r\n",
      ".history                                        .vboxclient-display.pid\r\n",
      ".ICEauthority                                   .vboxclient-draganddrop.pid\r\n",
      "\u001b[01;34m.ipynb_checkpoints\u001b[0m/                             .vboxclient-seamless.pid\r\n",
      "\u001b[01;34m.ipython\u001b[0m/                                       \u001b[01;34mVideos\u001b[0m/\r\n",
      "\u001b[01;34m.jupyter\u001b[0m/                                       .viminfo\r\n",
      "\u001b[01;34m.keychain\u001b[0m/                                      .wget-hsts\r\n",
      ".lesshst                                        \u001b[01;32m.Xdefaults\u001b[0m*\r\n",
      "\u001b[01;32m.liquidprompt\u001b[0m*                                  .xinputrc\r\n",
      "\u001b[01;32m.liquidpromptrc\u001b[0m*                                .zcompdump\r\n",
      "\u001b[01;34m.liquidprompt_repo\u001b[0m/                             \u001b[01;34m.zsh_cache\u001b[0m/\r\n",
      "\u001b[01;34m.local\u001b[0m/                                         .zsh_history\r\n",
      "\u001b[01;34mmetastore_db\u001b[0m/                                   .zshrc\r\n"
     ]
    }
   ],
   "source": [
    "ls -a"
   ]
  },
  {
   "cell_type": "markdown",
   "metadata": {},
   "source": [
    "cd - Esto nos sirve para ir a un directorio determinado. Ejemplo, si queremos ir a la carpeta Conexion-GIT_CONSOLA puedes escribir \"cd ~/Repos/Conexion-GIT_CONSOLA\""
   ]
  },
  {
   "cell_type": "code",
   "execution_count": 4,
   "metadata": {},
   "outputs": [
    {
     "name": "stdout",
     "output_type": "stream",
     "text": [
      "/home/dsc\n"
     ]
    }
   ],
   "source": [
    "cd"
   ]
  },
  {
   "cell_type": "code",
   "execution_count": 5,
   "metadata": {},
   "outputs": [
    {
     "name": "stdout",
     "output_type": "stream",
     "text": [
      "/home/dsc/Repos/Conexion-GIT_CONSOLA\n"
     ]
    }
   ],
   "source": [
    "cd ~/Repos/Conexion-GIT_CONSOLA"
   ]
  },
  {
   "cell_type": "markdown",
   "metadata": {},
   "source": [
    "el digito ~ indica la ruta raiz de la PC."
   ]
  },
  {
   "cell_type": "markdown",
   "metadata": {},
   "source": [
    "mkdir - Esto nos sirve para crear carpetas."
   ]
  },
  {
   "cell_type": "code",
   "execution_count": 10,
   "metadata": {},
   "outputs": [],
   "source": [
    "mkdir Comandos_SHELL_LINUX"
   ]
  },
  {
   "cell_type": "markdown",
   "metadata": {},
   "source": [
    "rm - Esto nos sirve para borrar archivos, carpetas."
   ]
  },
  {
   "cell_type": "code",
   "execution_count": 9,
   "metadata": {},
   "outputs": [],
   "source": [
    "rm Comandos_SHELL_LINUX"
   ]
  },
  {
   "cell_type": "markdown",
   "metadata": {},
   "source": [
    "touch - Esto nos sirve para crear cualquier tipo de archivo, en ipython no funciona este comando por lo que una manera de crear archivos puede ser creando una funcion."
   ]
  },
  {
   "cell_type": "code",
   "execution_count": 27,
   "metadata": {
    "scrolled": false
   },
   "outputs": [
    {
     "ename": "SyntaxError",
     "evalue": "invalid syntax (<ipython-input-27-e1df1e8bc940>, line 1)",
     "output_type": "error",
     "traceback": [
      "\u001b[0;36m  File \u001b[0;32m\"<ipython-input-27-e1df1e8bc940>\"\u001b[0;36m, line \u001b[0;32m1\u001b[0m\n\u001b[0;31m    touch new.txt\u001b[0m\n\u001b[0m            ^\u001b[0m\n\u001b[0;31mSyntaxError\u001b[0m\u001b[0;31m:\u001b[0m invalid syntax\n"
     ]
    }
   ],
   "source": [
    "touch new.txt"
   ]
  },
  {
   "cell_type": "markdown",
   "metadata": {},
   "source": [
    "man - Esto nos sirve para saber mas sobre un comando \"man cd\". otra maner es usar help \"cd --help\""
   ]
  },
  {
   "cell_type": "code",
   "execution_count": 29,
   "metadata": {},
   "outputs": [],
   "source": [
    "man rm"
   ]
  },
  {
   "cell_type": "code",
   "execution_count": 30,
   "metadata": {
    "scrolled": true
   },
   "outputs": [
    {
     "name": "stdout",
     "output_type": "stream",
     "text": [
      "Usage: rm [OPTION]... [FILE]...\r\n",
      "Remove (unlink) the FILE(s).\r\n",
      "\r\n",
      "  -f, --force           ignore nonexistent files and arguments, never prompt\r\n",
      "  -i                    prompt before every removal\r\n",
      "  -I                    prompt once before removing more than three files, or\r\n",
      "                          when removing recursively; less intrusive than -i,\r\n",
      "                          while still giving protection against most mistakes\r\n",
      "      --interactive[=WHEN]  prompt according to WHEN: never, once (-I), or\r\n",
      "                          always (-i); without WHEN, prompt always\r\n",
      "      --one-file-system  when removing a hierarchy recursively, skip any\r\n",
      "                          directory that is on a file system different from\r\n",
      "                          that of the corresponding command line argument\r\n",
      "      --no-preserve-root  do not treat '/' specially\r\n",
      "      --preserve-root   do not remove '/' (default)\r\n",
      "  -r, -R, --recursive   remove directories and their contents recursively\r\n",
      "  -d, --dir             remove empty directories\r\n",
      "  -v, --verbose         explain what is being done\r\n",
      "      --help     display this help and exit\r\n",
      "      --version  output version information and exit\r\n",
      "\r\n",
      "By default, rm does not remove directories.  Use the --recursive (-r or -R)\r\n",
      "option to remove each listed directory, too, along with all of its contents.\r\n",
      "\r\n",
      "To remove a file whose name starts with a '-', for example '-foo',\r\n",
      "use one of these commands:\r\n",
      "  rm -- -foo\r\n",
      "\r\n",
      "  rm ./-foo\r\n",
      "\r\n",
      "Note that if you use rm to remove a file, it might be possible to recover\r\n",
      "some of its contents, given sufficient expertise and/or time.  For greater\r\n",
      "assurance that the contents are truly unrecoverable, consider using shred.\r\n",
      "\r\n",
      "GNU coreutils online help: <http://www.gnu.org/software/coreutils/>\r\n",
      "Full documentation at: <http://www.gnu.org/software/coreutils/rm>\r\n",
      "or available locally via: info '(coreutils) rm invocation'\r\n"
     ]
    }
   ],
   "source": [
    "rm --help"
   ]
  },
  {
   "cell_type": "markdown",
   "metadata": {},
   "source": [
    "cp - Esto nos sirve para copiar archivos, se utiliza la ubicacion del archivo a copiar y el segundo la ubicacion donde pegar. Para copiar directorios se utiliza \"cp -r carpeta\""
   ]
  },
  {
   "cell_type": "code",
   "execution_count": 33,
   "metadata": {},
   "outputs": [],
   "source": [
    "cp ~/Data/first_dir/.text_file.txt.backup ~/Repos/Comandos_SHELL_LINUX/.text_file.txt.backup"
   ]
  },
  {
   "cell_type": "code",
   "execution_count": 34,
   "metadata": {},
   "outputs": [],
   "source": [
    "cp -r ~/Data/first_dir ~/Repos/Comandos_SHELL_LINUX/first_dir"
   ]
  },
  {
   "cell_type": "code",
   "execution_count": 39,
   "metadata": {},
   "outputs": [
    {
     "name": "stdout",
     "output_type": "stream",
     "text": [
      "\u001b[0m\u001b[01;34m.\u001b[0m/  \u001b[01;34m..\u001b[0m/  \u001b[01;34mfirst_dir\u001b[0m/  \u001b[01;32m.text_file.txt.backup\u001b[0m*\r\n"
     ]
    }
   ],
   "source": [
    "ls -a"
   ]
  },
  {
   "cell_type": "markdown",
   "metadata": {},
   "source": [
    "mv - Esto nos sirve para mover archivos, tambien se puede usar para renombrar"
   ]
  },
  {
   "cell_type": "code",
   "execution_count": 40,
   "metadata": {},
   "outputs": [],
   "source": [
    "mv ~/Data/first_dir/.text_file.txt.backup ~/Repos/Comandos_SHELL_LINUX/.text_file.txt"
   ]
  },
  {
   "cell_type": "code",
   "execution_count": 41,
   "metadata": {
    "scrolled": true
   },
   "outputs": [
    {
     "name": "stdout",
     "output_type": "stream",
     "text": [
      "\u001b[0m\u001b[01;34m.\u001b[0m/  \u001b[01;34m..\u001b[0m/  \u001b[01;34mfirst_dir\u001b[0m/  \u001b[01;32m.text_file.txt\u001b[0m*  \u001b[01;32m.text_file.txt.backup\u001b[0m*\r\n"
     ]
    }
   ],
   "source": [
    "ls -a"
   ]
  }
 ],
 "metadata": {
  "kernelspec": {
   "display_name": "Python 3",
   "language": "python",
   "name": "python3"
  },
  "language_info": {
   "codemirror_mode": {
    "name": "ipython",
    "version": 3
   },
   "file_extension": ".py",
   "mimetype": "text/x-python",
   "name": "python",
   "nbconvert_exporter": "python",
   "pygments_lexer": "ipython3",
   "version": "3.6.4"
  }
 },
 "nbformat": 4,
 "nbformat_minor": 2
}
