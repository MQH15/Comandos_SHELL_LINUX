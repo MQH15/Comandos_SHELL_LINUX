{
 "cells": [
  {
   "cell_type": "markdown",
   "metadata": {},
   "source": [
    "# Ejercicios Resueltos"
   ]
  },
  {
   "cell_type": "markdown",
   "metadata": {},
   "source": [
    "    Parte 1"
   ]
  },
  {
   "cell_type": "code",
   "execution_count": 2,
   "metadata": {},
   "outputs": [
    {
     "name": "stdout",
     "output_type": "stream",
     "text": [
      "/home/dsc/Repos/Comandos_SHELL_LINUX\n"
     ]
    }
   ],
   "source": [
    "cd ./Repos/Comandos_SHELL_LINUX/"
   ]
  },
  {
   "cell_type": "markdown",
   "metadata": {},
   "source": [
    "- Cree un directorio \"first_dir\" en Comandos_SHELL_LINUX."
   ]
  },
  {
   "cell_type": "code",
   "execution_count": 3,
   "metadata": {},
   "outputs": [],
   "source": [
    "!mkdir first_dir"
   ]
  },
  {
   "cell_type": "markdown",
   "metadata": {},
   "source": [
    "- Cree un archivo vacío \"text_file.txt\" dentro del directorio \"first_dir\"."
   ]
  },
  {
   "cell_type": "code",
   "execution_count": 6,
   "metadata": {},
   "outputs": [
    {
     "name": "stdout",
     "output_type": "stream",
     "text": [
      "/home/dsc/Repos/Comandos_SHELL_LINUX/first_dir\n"
     ]
    }
   ],
   "source": [
    "cd ./first_dir/"
   ]
  },
  {
   "cell_type": "code",
   "execution_count": 7,
   "metadata": {},
   "outputs": [],
   "source": [
    "!touch text_file.txt"
   ]
  },
  {
   "cell_type": "markdown",
   "metadata": {},
   "source": [
    "- Agregue permisos de ejecución para group usuarios y permisos de escritura a otros usuarios en \"text_file.txt\"."
   ]
  },
  {
   "cell_type": "code",
   "execution_count": 8,
   "metadata": {},
   "outputs": [],
   "source": [
    "!chmod g+x,o+w text_file.txt"
   ]
  },
  {
   "cell_type": "code",
   "execution_count": 9,
   "metadata": {},
   "outputs": [
    {
     "name": "stdout",
     "output_type": "stream",
     "text": [
      "total 8\r\n",
      "drwxr-xr-x 2 dsc dsc 4096 ene  6 23:52 \u001b[0m\u001b[01;34m.\u001b[0m/\r\n",
      "drwxr-xr-x 4 dsc dsc 4096 ene  6 23:53 \u001b[01;34m..\u001b[0m/\r\n",
      "-rw-r-xrw- 1 dsc dsc    0 ene  6 23:52 \u001b[01;32mtext_file.txt\u001b[0m*\r\n"
     ]
    }
   ],
   "source": [
    "ls -la"
   ]
  },
  {
   "cell_type": "markdown",
   "metadata": {},
   "source": [
    "- Cree 3 subdirectorios dentro de \"first_dir\": \"sub1\", \"sub2\", \"text_file\"."
   ]
  },
  {
   "cell_type": "code",
   "execution_count": 14,
   "metadata": {},
   "outputs": [],
   "source": [
    "mkdir sub1 sub2 text_file"
   ]
  },
  {
   "cell_type": "code",
   "execution_count": 15,
   "metadata": {},
   "outputs": [
    {
     "name": "stdout",
     "output_type": "stream",
     "text": [
      "total 20\r\n",
      "drwxr-xr-x 5 dsc dsc 4096 ene  7 00:00 \u001b[0m\u001b[01;34m.\u001b[0m/\r\n",
      "drwxr-xr-x 4 dsc dsc 4096 ene  6 23:53 \u001b[01;34m..\u001b[0m/\r\n",
      "drwxr-xr-x 2 dsc dsc 4096 ene  7 00:00 \u001b[01;34msub1\u001b[0m/\r\n",
      "drwxr-xr-x 2 dsc dsc 4096 ene  7 00:00 \u001b[01;34msub2\u001b[0m/\r\n",
      "drwxr-xr-x 2 dsc dsc 4096 ene  7 00:00 \u001b[01;34mtext_file\u001b[0m/\r\n",
      "-rw-r-xrw- 1 dsc dsc    0 ene  6 23:52 \u001b[01;32mtext_file.txt\u001b[0m*\r\n"
     ]
    }
   ],
   "source": [
    "ls -la"
   ]
  },
  {
   "cell_type": "markdown",
   "metadata": {},
   "source": [
    "- Copie el archivo \"text_file.txt\" en el directorio \"sub1\"."
   ]
  },
  {
   "cell_type": "code",
   "execution_count": 16,
   "metadata": {},
   "outputs": [],
   "source": [
    "!cp text_file.txt ~/Repos/Comandos_SHELL_LINUX/first_dir/sub1/text_file.txt"
   ]
  },
  {
   "cell_type": "code",
   "execution_count": 17,
   "metadata": {},
   "outputs": [
    {
     "name": "stdout",
     "output_type": "stream",
     "text": [
      "/home/dsc/Repos/Comandos_SHELL_LINUX/first_dir/sub1\n"
     ]
    }
   ],
   "source": [
    "cd ./sub1/"
   ]
  },
  {
   "cell_type": "code",
   "execution_count": 18,
   "metadata": {},
   "outputs": [
    {
     "name": "stdout",
     "output_type": "stream",
     "text": [
      "total 8\r\n",
      "drwxr-xr-x 2 dsc dsc 4096 ene  7 00:01 \u001b[0m\u001b[01;34m.\u001b[0m/\r\n",
      "drwxr-xr-x 5 dsc dsc 4096 ene  7 00:00 \u001b[01;34m..\u001b[0m/\r\n",
      "-rw-r-xr-- 1 dsc dsc    0 ene  7 00:01 \u001b[01;32mtext_file.txt\u001b[0m*\r\n"
     ]
    }
   ],
   "source": [
    "ls -la"
   ]
  },
  {
   "cell_type": "markdown",
   "metadata": {},
   "source": [
    "- Mueva el \"text_file.txt\" a sub2 bajo el nombre \"text_file.txt.2\"."
   ]
  },
  {
   "cell_type": "code",
   "execution_count": 19,
   "metadata": {},
   "outputs": [
    {
     "name": "stdout",
     "output_type": "stream",
     "text": [
      "/home/dsc/Repos/Comandos_SHELL_LINUX/first_dir\n"
     ]
    }
   ],
   "source": [
    "cd .."
   ]
  },
  {
   "cell_type": "code",
   "execution_count": 20,
   "metadata": {},
   "outputs": [],
   "source": [
    "mv text_file.txt ~/Repos/Comandos_SHELL_LINUX/first_dir/sub2/text_file.txt.2"
   ]
  },
  {
   "cell_type": "code",
   "execution_count": 21,
   "metadata": {},
   "outputs": [
    {
     "name": "stdout",
     "output_type": "stream",
     "text": [
      "/home/dsc/Repos/Comandos_SHELL_LINUX/first_dir/sub2\n"
     ]
    }
   ],
   "source": [
    "cd ./sub2"
   ]
  },
  {
   "cell_type": "code",
   "execution_count": 22,
   "metadata": {},
   "outputs": [
    {
     "name": "stdout",
     "output_type": "stream",
     "text": [
      "total 8\r\n",
      "drwxr-xr-x 2 dsc dsc 4096 ene  7 00:04 \u001b[0m\u001b[01;34m.\u001b[0m/\r\n",
      "drwxr-xr-x 5 dsc dsc 4096 ene  7 00:04 \u001b[01;34m..\u001b[0m/\r\n",
      "-rw-r-xrw- 1 dsc dsc    0 ene  6 23:52 \u001b[01;32mtext_file.txt.2\u001b[0m*\r\n"
     ]
    }
   ],
   "source": [
    "ls -la"
   ]
  },
  {
   "cell_type": "code",
   "execution_count": 23,
   "metadata": {},
   "outputs": [
    {
     "name": "stdout",
     "output_type": "stream",
     "text": [
      "/home/dsc/Repos/Comandos_SHELL_LINUX/first_dir\n"
     ]
    }
   ],
   "source": [
    "cd .."
   ]
  },
  {
   "cell_type": "code",
   "execution_count": 24,
   "metadata": {},
   "outputs": [
    {
     "name": "stdout",
     "output_type": "stream",
     "text": [
      "total 20\r\n",
      "drwxr-xr-x 5 dsc dsc 4096 ene  7 00:04 \u001b[0m\u001b[01;34m.\u001b[0m/\r\n",
      "drwxr-xr-x 4 dsc dsc 4096 ene  6 23:53 \u001b[01;34m..\u001b[0m/\r\n",
      "drwxr-xr-x 2 dsc dsc 4096 ene  7 00:01 \u001b[01;34msub1\u001b[0m/\r\n",
      "drwxr-xr-x 2 dsc dsc 4096 ene  7 00:04 \u001b[01;34msub2\u001b[0m/\r\n",
      "drwxr-xr-x 2 dsc dsc 4096 ene  7 00:00 \u001b[01;34mtext_file\u001b[0m/\r\n"
     ]
    }
   ],
   "source": [
    "ls -la"
   ]
  },
  {
   "cell_type": "markdown",
   "metadata": {},
   "source": [
    "- Copie todo el directorio \"sub1\" al directorio \"sub3\"."
   ]
  },
  {
   "cell_type": "code",
   "execution_count": 26,
   "metadata": {},
   "outputs": [],
   "source": [
    "!cp -r sub1 sub3"
   ]
  },
  {
   "cell_type": "code",
   "execution_count": 27,
   "metadata": {},
   "outputs": [
    {
     "name": "stdout",
     "output_type": "stream",
     "text": [
      "total 24\r\n",
      "drwxr-xr-x 6 dsc dsc 4096 ene  7 00:06 \u001b[0m\u001b[01;34m.\u001b[0m/\r\n",
      "drwxr-xr-x 4 dsc dsc 4096 ene  6 23:53 \u001b[01;34m..\u001b[0m/\r\n",
      "drwxr-xr-x 2 dsc dsc 4096 ene  7 00:01 \u001b[01;34msub1\u001b[0m/\r\n",
      "drwxr-xr-x 2 dsc dsc 4096 ene  7 00:04 \u001b[01;34msub2\u001b[0m/\r\n",
      "drwxr-xr-x 2 dsc dsc 4096 ene  7 00:06 \u001b[01;34msub3\u001b[0m/\r\n",
      "drwxr-xr-x 2 dsc dsc 4096 ene  7 00:00 \u001b[01;34mtext_file\u001b[0m/\r\n"
     ]
    }
   ],
   "source": [
    "ls -la"
   ]
  },
  {
   "cell_type": "markdown",
   "metadata": {},
   "source": [
    "- Cambie el nombre de archivo de \"first_dir /sub2/text_file.txt.2\" a \"first_dir /sub2/text_file.txt.backup\"."
   ]
  },
  {
   "cell_type": "code",
   "execution_count": 28,
   "metadata": {},
   "outputs": [
    {
     "name": "stdout",
     "output_type": "stream",
     "text": [
      "/home/dsc/Repos/Comandos_SHELL_LINUX/first_dir/sub2\n"
     ]
    }
   ],
   "source": [
    "cd ./sub2"
   ]
  },
  {
   "cell_type": "code",
   "execution_count": 29,
   "metadata": {},
   "outputs": [],
   "source": [
    "!mv text_file.txt.2 ~/Repos/Comandos_SHELL_LINUX/first_dir/sub2/text_file.txt.backup"
   ]
  },
  {
   "cell_type": "code",
   "execution_count": 30,
   "metadata": {},
   "outputs": [
    {
     "name": "stdout",
     "output_type": "stream",
     "text": [
      "total 8\r\n",
      "drwxr-xr-x 2 dsc dsc 4096 ene  7 00:08 \u001b[0m\u001b[01;34m.\u001b[0m/\r\n",
      "drwxr-xr-x 6 dsc dsc 4096 ene  7 00:06 \u001b[01;34m..\u001b[0m/\r\n",
      "-rw-r-xrw- 1 dsc dsc    0 ene  6 23:52 \u001b[01;32mtext_file.txt.backup\u001b[0m*\r\n"
     ]
    }
   ],
   "source": [
    "ls -la"
   ]
  },
  {
   "cell_type": "markdown",
   "metadata": {},
   "source": [
    "- Mueva \"first_dir /sub2/text_file.txt.backup\" al directorio \"first_dir\" como archivo oculto."
   ]
  },
  {
   "cell_type": "code",
   "execution_count": 33,
   "metadata": {},
   "outputs": [],
   "source": [
    "!mv text_file.txt.backup ~/Repos/Comandos_SHELL_LINUX/first_dir/.text_file.txt.backup"
   ]
  },
  {
   "cell_type": "code",
   "execution_count": 34,
   "metadata": {},
   "outputs": [
    {
     "name": "stdout",
     "output_type": "stream",
     "text": [
      "/home/dsc/Repos/Comandos_SHELL_LINUX/first_dir\n"
     ]
    }
   ],
   "source": [
    "cd .."
   ]
  },
  {
   "cell_type": "code",
   "execution_count": 35,
   "metadata": {},
   "outputs": [
    {
     "name": "stdout",
     "output_type": "stream",
     "text": [
      "total 24\r\n",
      "drwxr-xr-x 6 dsc dsc 4096 ene  7 00:09 \u001b[0m\u001b[01;34m.\u001b[0m/\r\n",
      "drwxr-xr-x 4 dsc dsc 4096 ene  6 23:53 \u001b[01;34m..\u001b[0m/\r\n",
      "drwxr-xr-x 2 dsc dsc 4096 ene  7 00:01 \u001b[01;34msub1\u001b[0m/\r\n",
      "drwxr-xr-x 2 dsc dsc 4096 ene  7 00:09 \u001b[01;34msub2\u001b[0m/\r\n",
      "drwxr-xr-x 2 dsc dsc 4096 ene  7 00:06 \u001b[01;34msub3\u001b[0m/\r\n",
      "drwxr-xr-x 2 dsc dsc 4096 ene  7 00:00 \u001b[01;34mtext_file\u001b[0m/\r\n",
      "-rw-r-xrw- 1 dsc dsc    0 ene  6 23:52 \u001b[01;32m.text_file.txt.backup\u001b[0m*\r\n"
     ]
    }
   ],
   "source": [
    "ls -la"
   ]
  },
  {
   "cell_type": "markdown",
   "metadata": {},
   "source": [
    "- Borre el subdirectorio “sub2”."
   ]
  },
  {
   "cell_type": "code",
   "execution_count": 36,
   "metadata": {},
   "outputs": [],
   "source": [
    "!rm -rf sub2"
   ]
  },
  {
   "cell_type": "code",
   "execution_count": 37,
   "metadata": {
    "scrolled": false
   },
   "outputs": [
    {
     "name": "stdout",
     "output_type": "stream",
     "text": [
      "total 20\r\n",
      "drwxr-xr-x 5 dsc dsc 4096 ene  7 00:10 \u001b[0m\u001b[01;34m.\u001b[0m/\r\n",
      "drwxr-xr-x 4 dsc dsc 4096 ene  6 23:53 \u001b[01;34m..\u001b[0m/\r\n",
      "drwxr-xr-x 2 dsc dsc 4096 ene  7 00:01 \u001b[01;34msub1\u001b[0m/\r\n",
      "drwxr-xr-x 2 dsc dsc 4096 ene  7 00:06 \u001b[01;34msub3\u001b[0m/\r\n",
      "drwxr-xr-x 2 dsc dsc 4096 ene  7 00:00 \u001b[01;34mtext_file\u001b[0m/\r\n",
      "-rw-r-xrw- 1 dsc dsc    0 ene  6 23:52 \u001b[01;32m.text_file.txt.backup\u001b[0m*\r\n"
     ]
    }
   ],
   "source": [
    "ls -la"
   ]
  },
  {
   "cell_type": "markdown",
   "metadata": {},
   "source": [
    "    Parte 2"
   ]
  },
  {
   "cell_type": "markdown",
   "metadata": {},
   "source": [
    "- Vaya al archivo Text_example.txt para generar un nuevo archivo con el mismo contenido pero con el número de línea al comienzo de cada línea."
   ]
  },
  {
   "cell_type": "code",
   "execution_count": 40,
   "metadata": {},
   "outputs": [
    {
     "name": "stdout",
     "output_type": "stream",
     "text": [
      "/home/dsc/Repos/Comandos_SHELL_LINUX\n"
     ]
    }
   ],
   "source": [
    "cd .."
   ]
  },
  {
   "cell_type": "code",
   "execution_count": 50,
   "metadata": {},
   "outputs": [],
   "source": [
    "!cat -n Text_example.txt > Text_example_line.txt"
   ]
  },
  {
   "cell_type": "code",
   "execution_count": 51,
   "metadata": {},
   "outputs": [
    {
     "name": "stdout",
     "output_type": "stream",
     "text": [
      "     1\tTHIS LINE IS THE 1ST UPPER CASE LINE IN THIS FILE.\r",
      "\r\n",
      "     2\tthis line is the 1st lower case line in this file.\r",
      "\r\n",
      "     3\tThis Line Has All Its First Character Of The Word With Upper Case.\r",
      "\r\n",
      "     4\t\r",
      "\r\n",
      "     5\t\r",
      "\r\n",
      "     6\tTwo lines above this are empty.\r",
      "\r\n",
      "     7\tAnd this is the last line.\r",
      "\r\n"
     ]
    }
   ],
   "source": [
    "!head Text_example_line.txt"
   ]
  },
  {
   "cell_type": "markdown",
   "metadata": {},
   "source": [
    "- Genere un nuevo archivo con el doble del contenido de \"Text_example.txt\" dentro (un contenido de texto completo después de otro)."
   ]
  },
  {
   "cell_type": "code",
   "execution_count": 53,
   "metadata": {},
   "outputs": [],
   "source": [
    "!cat Text_example_line.txt Text_example_line.txt > Text_example_doble.txt"
   ]
  },
  {
   "cell_type": "code",
   "execution_count": 54,
   "metadata": {},
   "outputs": [
    {
     "name": "stdout",
     "output_type": "stream",
     "text": [
      "     1\tTHIS LINE IS THE 1ST UPPER CASE LINE IN THIS FILE.\r",
      "\r\n",
      "     2\tthis line is the 1st lower case line in this file.\r",
      "\r\n",
      "     3\tThis Line Has All Its First Character Of The Word With Upper Case.\r",
      "\r\n",
      "     4\t\r",
      "\r\n",
      "     5\t\r",
      "\r\n",
      "     6\tTwo lines above this are empty.\r",
      "\r\n",
      "     7\tAnd this is the last line.\r",
      "\r\n",
      "     1\tTHIS LINE IS THE 1ST UPPER CASE LINE IN THIS FILE.\r",
      "\r\n",
      "     2\tthis line is the 1st lower case line in this file.\r",
      "\r\n",
      "     3\tThis Line Has All Its First Character Of The Word With Upper Case.\r",
      "\r\n",
      "     4\t\r",
      "\r\n",
      "     5\t\r",
      "\r\n",
      "     6\tTwo lines above this are empty.\r",
      "\r\n",
      "     7\tAnd this is the last line.\r",
      "\r\n"
     ]
    }
   ],
   "source": [
    "cat Text_example_doble.txt"
   ]
  },
  {
   "cell_type": "markdown",
   "metadata": {},
   "source": [
    "- Genere un archivo con fecha y hora de creación y el nombre del ser que lo creó en la primera línea. Algo así: \"# Este archivo es creado por KSCHOOL el: domingo 26 de noviembre 10:31:06 CET 2017\""
   ]
  },
  {
   "cell_type": "code",
   "execution_count": 55,
   "metadata": {},
   "outputs": [
    {
     "name": "stdout",
     "output_type": "stream",
     "text": [
      "# Este archivo es creado por KSCHOOL el: lun ene  7 00:46:46 CET 2019\r\n"
     ]
    }
   ],
   "source": [
    "!echo \"# Este archivo es creado por KSCHOOL el: $(date)\""
   ]
  },
  {
   "cell_type": "markdown",
   "metadata": {},
   "source": [
    "    Parte 3"
   ]
  },
  {
   "cell_type": "markdown",
   "metadata": {},
   "source": [
    "- Guarde la información de los 3 archivos más grandes de la carpeta archivos_pesados en three_largest_file.txt."
   ]
  },
  {
   "cell_type": "code",
   "execution_count": 56,
   "metadata": {},
   "outputs": [
    {
     "name": "stdout",
     "output_type": "stream",
     "text": [
      "/home/dsc/Repos/Comandos_SHELL_LINUX/Archivos_Pesados\n"
     ]
    }
   ],
   "source": [
    "cd Archivos_Pesados/"
   ]
  },
  {
   "cell_type": "code",
   "execution_count": 57,
   "metadata": {},
   "outputs": [
    {
     "name": "stdout",
     "output_type": "stream",
     "text": [
      "total 190208\r\n",
      "drwxr-x--- 2 dsc dsc     4096 ene  7 00:52 \u001b[0m\u001b[01;34m.\u001b[0m/\r\n",
      "drwxr-xr-x 5 dsc dsc     4096 ene  7 00:51 \u001b[01;34m..\u001b[0m/\r\n",
      "-rwxr-x--- 1 dsc dsc 23061340 ene  7 00:51 \u001b[01;32mOn_Time_On_Time_Performance_2015_1.zip\u001b[0m*\r\n",
      "-rwxr-x--- 1 dsc dsc 21230105 ene  7 00:51 \u001b[01;32mOn_Time_On_Time_Performance_2015_2.zip\u001b[0m*\r\n",
      "-rwxr-x--- 1 dsc dsc 24811186 ene  7 00:51 \u001b[01;32mOn_Time_On_Time_Performance_2015_3.zip\u001b[0m*\r\n",
      "-rwxr-x--- 1 dsc dsc 23625261 ene  7 00:51 \u001b[01;32mOn_Time_On_Time_Performance_2015_4.zip\u001b[0m*\r\n",
      "-rwxr-x--- 1 dsc dsc 24334057 ene  7 00:51 \u001b[01;32mOn_Time_On_Time_Performance_2015_5.zip\u001b[0m*\r\n",
      "-rwxr-x--- 1 dsc dsc 25758350 ene  7 00:51 \u001b[01;32mOn_Time_On_Time_Performance_2015_6.zip\u001b[0m*\r\n",
      "-rwxr-x--- 1 dsc dsc 26204213 ene  7 00:51 \u001b[01;32mOn_Time_On_Time_Performance_2015_7.zip\u001b[0m*\r\n",
      "-rwxr-x--- 1 dsc dsc 25726054 ene  7 00:51 \u001b[01;32mOn_Time_On_Time_Performance_2015_8.zip\u001b[0m*\r\n"
     ]
    }
   ],
   "source": [
    "ls -la"
   ]
  },
  {
   "cell_type": "code",
   "execution_count": 62,
   "metadata": {},
   "outputs": [],
   "source": [
    "ls -lS1 | head -n 4 > three_largest_file.txt"
   ]
  },
  {
   "cell_type": "code",
   "execution_count": 63,
   "metadata": {},
   "outputs": [
    {
     "name": "stdout",
     "output_type": "stream",
     "text": [
      "total 190200\r\n",
      "-rwxr-x--- 1 dsc dsc 26204213 ene  7 00:51 \u001b[0m\u001b[01;32mOn_Time_On_Time_Performance_2015_7.zip\u001b[0m*\r\n",
      "-rwxr-x--- 1 dsc dsc 25758350 ene  7 00:51 \u001b[01;32mOn_Time_On_Time_Performance_2015_6.zip\u001b[0m*\r\n",
      "-rwxr-x--- 1 dsc dsc 25726054 ene  7 00:51 \u001b[01;32mOn_Time_On_Time_Performance_2015_8.zip\u001b[0m*\r\n"
     ]
    }
   ],
   "source": [
    "cat three_largest_file.txt"
   ]
  },
  {
   "cell_type": "markdown",
   "metadata": {},
   "source": [
    "- Guarde los últimos 20 comandos utilizados en la línea de comandos en un archivo. (Indica el historial de uso y redirige la salida)."
   ]
  },
  {
   "cell_type": "code",
   "execution_count": 66,
   "metadata": {},
   "outputs": [
    {
     "name": "stdout",
     "output_type": "stream",
     "text": [
      "/home/dsc/Repos/Comandos_SHELL_LINUX\n"
     ]
    }
   ],
   "source": [
    "cd .."
   ]
  },
  {
   "cell_type": "code",
   "execution_count": 68,
   "metadata": {},
   "outputs": [],
   "source": [
    "cat ~/.history | tail -n 20 > History.txt"
   ]
  },
  {
   "cell_type": "markdown",
   "metadata": {},
   "source": [
    "- Imprima el contenido de Text_example.txt excepto las primeras 2 y las últimas 3 líneas."
   ]
  },
  {
   "cell_type": "code",
   "execution_count": 73,
   "metadata": {},
   "outputs": [
    {
     "name": "stdout",
     "output_type": "stream",
     "text": [
      "     3\tThis Line Has All Its First Character Of The Word With Upper Case.\r",
      "\r\n",
      "     4\t\r",
      "\r\n",
      "     5\t\r",
      "\r\n",
      "     6\tTwo lines above this are empty.\r",
      "\r\n",
      "     7\tAnd this is the last line.\r",
      "\r\n",
      "     1\tTHIS LINE IS THE 1ST UPPER CASE LINE IN THIS FILE.\r",
      "\r\n",
      "     2\tthis line is the 1st lower case line in this file.\r",
      "\r\n",
      "     3\tThis Line Has All Its First Character Of The Word With Upper Case.\r",
      "\r\n",
      "     4\t\r",
      "\r\n"
     ]
    }
   ],
   "source": [
    "cat Text_example_doble.txt | head -n -3 | tail -n +3"
   ]
  },
  {
   "cell_type": "markdown",
   "metadata": {},
   "source": [
    "- ¿Cuántas líneas tiene el archivo optd_aircraft.csv?"
   ]
  },
  {
   "cell_type": "code",
   "execution_count": 76,
   "metadata": {},
   "outputs": [
    {
     "name": "stdout",
     "output_type": "stream",
     "text": [
      "458 optd_aircraft_backup.csv\r\n"
     ]
    }
   ],
   "source": [
    "!wc -l optd_aircraft_backup.csv"
   ]
  },
  {
   "cell_type": "markdown",
   "metadata": {},
   "source": [
    "- ¿Cuántas palabras tienen las primeras 5 líneas de optd_aircraft.csv?"
   ]
  },
  {
   "cell_type": "code",
   "execution_count": 77,
   "metadata": {},
   "outputs": [
    {
     "name": "stdout",
     "output_type": "stream",
     "text": [
      "1068 optd_aircraft_backup.csv\r\n"
     ]
    }
   ],
   "source": [
    "!wc -w optd_aircraft_backup.csv | head -n 5"
   ]
  },
  {
   "cell_type": "markdown",
   "metadata": {},
   "source": [
    "    Parte 4"
   ]
  },
  {
   "cell_type": "markdown",
   "metadata": {},
   "source": [
    "- Encuentre todos los archivos SÓLO en los subdirectorios de su directorio de inicio que se modificaron en los últimos 60 minutos."
   ]
  },
  {
   "cell_type": "code",
   "execution_count": 79,
   "metadata": {},
   "outputs": [
    {
     "name": "stdout",
     "output_type": "stream",
     "text": [
      "/home/dsc/Shell_Basic.ipynb\r\n",
      "/home/dsc/Shell_Intermediate.ipynb\r\n",
      "/home/dsc/.mozilla/firefox/2eyyfwfo.default/SiteSecurityServiceState.txt\r\n",
      "/home/dsc/.mozilla/firefox/2eyyfwfo.default/prefs.js\r\n",
      "/home/dsc/.mozilla/firefox/2eyyfwfo.default/datareporting/aborted-session-ping\r\n",
      "/home/dsc/.mozilla/firefox/2eyyfwfo.default/datareporting/archived/2019-01/1546818848927.e45eb1a8-334b-49e1-9dea-3f83af471526.modules.jsonlz4\r\n",
      "/home/dsc/Repos/Comandos_SHELL_LINUX/History.txt\r\n",
      "/home/dsc/Repos/Comandos_SHELL_LINUX/Text_example_line.txt\r\n",
      "/home/dsc/Repos/Comandos_SHELL_LINUX/Text_example_doble.txt\r\n",
      "/home/dsc/Repos/Comandos_SHELL_LINUX/Archivos_Pesados/On_Time_On_Time_Performance_2015_2.zip\r\n",
      "find: ‘standard output’: Broken pipe\r\n",
      "find: write error\r\n"
     ]
    }
   ],
   "source": [
    "!find ~ -type f -mmin -60 | head"
   ]
  },
  {
   "cell_type": "markdown",
   "metadata": {},
   "source": [
    "- Encuentre todos los archivos vacíos dentro de los subdirectorios de su directorio de inicio que NO tienen permisos de lectura-escritura-ejecución otorgados a todos los usuarios"
   ]
  },
  {
   "cell_type": "code",
   "execution_count": 82,
   "metadata": {},
   "outputs": [
    {
     "name": "stdout",
     "output_type": "stream",
     "text": [
      "./first_dir/sub1/text_file.txt\r\n",
      "./first_dir/sub3/text_file.txt\r\n",
      "./first_dir/.text_file.txt.backup\r\n"
     ]
    }
   ],
   "source": [
    "!find -type f -empty ! -perm 777"
   ]
  },
  {
   "cell_type": "markdown",
   "metadata": {},
   "source": [
    "- Expanda el comando anterior para otorgar estos permisos usando la opción \"ok\"."
   ]
  },
  {
   "cell_type": "code",
   "execution_count": 85,
   "metadata": {},
   "outputs": [],
   "source": [
    "!find -type f -empty ! -perm 777 -ok chmod 777 {} \\;"
   ]
  },
  {
   "cell_type": "code",
   "execution_count": 89,
   "metadata": {},
   "outputs": [
    {
     "name": "stdout",
     "output_type": "stream",
     "text": [
      "./first_dir/sub1/text_file.txt\r\n",
      "./first_dir/sub3/text_file.txt\r\n",
      "./first_dir/.text_file.txt.backup\r\n"
     ]
    }
   ],
   "source": [
    "!find -type f -empty -perm 777"
   ]
  },
  {
   "cell_type": "markdown",
   "metadata": {},
   "source": [
    "- Obtenga los 3 archivos más grandes por subdirectorio dentro de Arhivos_pesados"
   ]
  },
  {
   "cell_type": "code",
   "execution_count": 104,
   "metadata": {},
   "outputs": [
    {
     "name": "stdout",
     "output_type": "stream",
     "text": [
      "/home/dsc/Repos/Comandos_SHELL_LINUX/Archivos_Pesados/\r\n",
      "On_Time_On_Time_Performance_2015_7.zip\r\n",
      "On_Time_On_Time_Performance_2015_6.zip\r\n",
      "On_Time_On_Time_Performance_2015_8.zip\r\n"
     ]
    }
   ],
   "source": [
    "!find ~/Repos/Comandos_SHELL_LINUX/Archivos_Pesados/ -type d -exec echo {} \\; -exec sh -c \"ls -S {} | head -n 3\" {} \\;"
   ]
  },
  {
   "cell_type": "markdown",
   "metadata": {},
   "source": [
    "- Busque los 10 archivos principales por tamaño en su directorio de inicio, incluidos los subdirectorios. Ordénelos por tamaño e imprima el resultado, incluido el tamaño y el nombre del archivo."
   ]
  },
  {
   "cell_type": "code",
   "execution_count": 16,
   "metadata": {
    "scrolled": true
   },
   "outputs": [
    {
     "name": "stdout",
     "output_type": "stream",
     "text": [
      "530M /home/dsc/Data/challenge/bookings.csv.bz2\r\n",
      "461M /home/dsc/Data/challenge/searches.csv.bz2\r\n",
      "185M /home/dsc/anaconda3/pkgs/mkl-2018.0.1-h19d6760_4.tar.bz2\r\n",
      "71M /home/dsc/anaconda3/pkgs/mkl-2018.0.1-h19d6760_4/lib/libmkl_avx512_mic.so\r\n",
      "71M /home/dsc/anaconda3/lib/libmkl_avx512_mic.so\r\n",
      "63M /home/dsc/anaconda3/pkgs/mkl-2018.0.1-h19d6760_4/lib/libmkl_avx512.so\r\n",
      "63M /home/dsc/anaconda3/lib/libmkl_avx512.so\r\n",
      "57M /home/dsc/anaconda3/pkgs/pandoc-1.19.2.1-hea2e7c5_1/bin/pandoc\r\n",
      "57M /home/dsc/anaconda3/bin/pandoc\r\n",
      "53M /home/dsc/Data/airline_tickets/sales_segments.csv.gz\r\n"
     ]
    }
   ],
   "source": [
    "!find ~ -type f -size +10M -exec ls -sh {} \\; | sort -nr | head"
   ]
  },
  {
   "cell_type": "markdown",
   "metadata": {},
   "source": [
    "    Parte 5"
   ]
  },
  {
   "cell_type": "markdown",
   "metadata": {},
   "source": [
    "- Cree un archivo ficticio con este comando: seq 15> 20lines.txt; seq 9 1 20 >> 20lines.txt; echo \"20 \\ n20\" >> 20lines.txt\n",
    "\n",
    "a) Ordena las líneas de archivo en base a caracteres alfanuméricos.\n",
    "\n",
    "b) Ordene las líneas de archivo en base a valores numéricos y elimine los duplicados.\n",
    "\n",
    "c) Imprime todas las líneas duplicadas del archivo.\n",
    "\n",
    "d) Imprime la línea que tenga más repeticiones.\n",
    "\n",
    "e) Imprima todas las líneas con el número de repeticiones ordenadas."
   ]
  },
  {
   "cell_type": "code",
   "execution_count": 55,
   "metadata": {},
   "outputs": [],
   "source": [
    "!seq 15 > 20lines.txt;\n",
    "!seq 9 1 20 >> 20lines.txt;\n",
    "!echo \"20\\n20\" >>20lines.txt;"
   ]
  },
  {
   "cell_type": "code",
   "execution_count": 63,
   "metadata": {},
   "outputs": [],
   "source": [
    "!sort -n 20lines.txt > a;\n",
    "!sort -n -u 20lines.txt > b;\n",
    "!sort -n 20lines.txt | uniq -d > c;\n",
    "!sort -n -r 20lines.txt | uniq -d -c | head -n 1 > d;\n",
    "!sort -n 20lines.txt | uniq -c > e;"
   ]
  },
  {
   "cell_type": "code",
   "execution_count": 64,
   "metadata": {
    "scrolled": true
   },
   "outputs": [
    {
     "name": "stdout",
     "output_type": "stream",
     "text": [
      "1\t1\t9\t      3 20\t      1 1\r\n",
      "2\t2\t10\t\t      1 2\r\n",
      "3\t3\t11\t\t      1 3\r\n",
      "4\t4\t12\t\t      1 4\r\n",
      "5\t5\t13\t\t      1 5\r\n",
      "6\t6\t14\t\t      1 6\r\n",
      "7\t7\t15\t\t      1 7\r\n",
      "8\t8\t20\t\t      1 8\r\n",
      "9\t9\t\t\t      2 9\r\n",
      "9\t10\t\t\t      2 10\r\n",
      "10\t11\t\t\t      2 11\r\n",
      "10\t12\t\t\t      2 12\r\n",
      "11\t13\t\t\t      2 13\r\n",
      "11\t14\t\t\t      2 14\r\n",
      "12\t15\t\t\t      2 15\r\n",
      "12\t16\t\t\t      1 16\r\n",
      "13\t17\t\t\t      1 17\r\n",
      "13\t18\t\t\t      1 18\r\n",
      "14\t19\t\t\t      1 19\r\n",
      "14\t20\t\t\t      3 20\r\n",
      "15\t\t\t\t\r\n",
      "15\t\t\t\t\r\n",
      "16\t\t\t\t\r\n",
      "17\t\t\t\t\r\n",
      "18\t\t\t\t\r\n",
      "19\t\t\t\t\r\n",
      "20\t\t\t\t\r\n",
      "20\t\t\t\t\r\n",
      "20\t\t\t\t\r\n"
     ]
    }
   ],
   "source": [
    "!paste a b c d e"
   ]
  },
  {
   "cell_type": "markdown",
   "metadata": {},
   "source": [
    "- Cree otro archivo con este comando: seq 0 2 40> 20lines2.txt\n",
    "\n",
    "a) Crea un tercer archivo a partir de los dos primeros pero sin duplicados.\n",
    "\n",
    "b) Fusionar los dos primeros archivos. Imprima líneas únicas junto con la cantidad de incidencias dentro del archivo combinado y clasificadas según el contenido de la línea."
   ]
  },
  {
   "cell_type": "code",
   "execution_count": 66,
   "metadata": {},
   "outputs": [],
   "source": [
    "!seq 0 2 40 > 20lines2.txt"
   ]
  },
  {
   "cell_type": "code",
   "execution_count": 78,
   "metadata": {},
   "outputs": [],
   "source": [
    "!sort -nu 20lines.txt 20lines2.txt > a;\n",
    "!sort 20lines2.txt 20lines.txt | uniq -c | sort -k 2n,2 > b;"
   ]
  },
  {
   "cell_type": "code",
   "execution_count": 79,
   "metadata": {
    "scrolled": true
   },
   "outputs": [
    {
     "name": "stdout",
     "output_type": "stream",
     "text": [
      "0\t      1 0\r\n",
      "1\t      1 1\r\n",
      "2\t      2 2\r\n",
      "3\t      1 3\r\n",
      "4\t      2 4\r\n",
      "5\t      1 5\r\n",
      "6\t      2 6\r\n",
      "7\t      1 7\r\n",
      "8\t      2 8\r\n",
      "9\t      2 9\r\n",
      "10\t      3 10\r\n",
      "11\t      2 11\r\n",
      "12\t      3 12\r\n",
      "13\t      2 13\r\n",
      "14\t      3 14\r\n",
      "15\t      2 15\r\n",
      "16\t      2 16\r\n",
      "17\t      1 17\r\n",
      "18\t      2 18\r\n",
      "19\t      1 19\r\n",
      "20\t      4 20\r\n",
      "22\t      1 22\r\n",
      "24\t      1 24\r\n",
      "26\t      1 26\r\n",
      "28\t      1 28\r\n",
      "30\t      1 30\r\n",
      "32\t      1 32\r\n",
      "34\t      1 34\r\n",
      "36\t      1 36\r\n",
      "38\t      1 38\r\n",
      "40\t      1 40\r\n"
     ]
    }
   ],
   "source": [
    "!paste a b"
   ]
  },
  {
   "cell_type": "markdown",
   "metadata": {},
   "source": [
    "- Vaya a optd_aircraft.csv Obtén la línea con el mayor número de motores usando ordenación."
   ]
  },
  {
   "cell_type": "code",
   "execution_count": 80,
   "metadata": {},
   "outputs": [
    {
     "name": "stdout",
     "output_type": "stream",
     "text": [
      "iata_code\r\n",
      "manufacturer\r\n",
      "model\r\n",
      "iata_group\r\n",
      "iata_category\r\n",
      "icao_code\r\n",
      "nb_engines\r\n",
      "aircraft_type\r\n"
     ]
    }
   ],
   "source": [
    "cat optd_aircraft_backup.csv | head -n 1 | tr \",\" \"\\n\""
   ]
  },
  {
   "cell_type": "code",
   "execution_count": 85,
   "metadata": {
    "scrolled": false
   },
   "outputs": [
    {
     "name": "stdout",
     "output_type": "stream",
     "text": [
      "A5F,Antonov,An-225,A5F,6J,A225,6,J\r\n",
      "sort: write failed: 'standard output': Broken pipe\r\n",
      "sort: write error\r\n"
     ]
    }
   ],
   "source": [
    "!sort -t \",\" -k 7 -nr optd_aircraft_backup.csv | head -n 1"
   ]
  },
  {
   "cell_type": "markdown",
   "metadata": {},
   "source": [
    "- Cambie el delimitador de optd_aircraft.csv a \"^\""
   ]
  },
  {
   "cell_type": "code",
   "execution_count": 6,
   "metadata": {},
   "outputs": [
    {
     "name": "stdout",
     "output_type": "stream",
     "text": [
      "iata_code^manufacturer^model^iata_group^iata_category^icao_code^nb_engines^aircraft_type\r\n",
      "100^Fokker^100^100^2J^F100^2^J\r\n",
      "141^BAe^146-100^146^4J^B461^4^J\r\n",
      "142^BAe^BAE Systems 146-200 Passenger^146^4J^B462^4^J\r\n",
      "143^BAe^146-300^146^4J^B463^4^J\r\n",
      "146^BAe^146^^^^^\r\n",
      "14F^BAe^146 Freighter (-100/200/300QT & QC)^^^^^\r\n",
      "14X^BAe^146 Freighter (-100QT & QC)^14F^4J^B461^4^J\r\n",
      "14Y^BAe^146 Freighter (-200QT & QC)^14F^4J^B462^4^J\r\n",
      "14Z^BAe^146 Freighter (-300QT & QC)^14F^4J^B463^4^J\r\n"
     ]
    }
   ],
   "source": [
    "!cat optd_aircraft.csv | tr \",\" \"^\""
   ]
  },
  {
   "cell_type": "markdown",
   "metadata": {},
   "source": [
    "- Compruebe si optd_por_public.csv ha repetido espacios en blanco"
   ]
  },
  {
   "cell_type": "code",
   "execution_count": 11,
   "metadata": {},
   "outputs": [
    {
     "name": "stdout",
     "output_type": "stream",
     "text": [
      "  18190  202528 8080005\n",
      "  18190  202528 8079990\n"
     ]
    }
   ],
   "source": [
    "!cat optd_por_public.csv | wc;\n",
    "!cat optd_por_public.csv | tr -s \"[:blank:]\" \" \" | wc;"
   ]
  },
  {
   "cell_type": "markdown",
   "metadata": {},
   "source": [
    "- ¿Cuántas columnas tiene optd_por_public.csv?"
   ]
  },
  {
   "cell_type": "code",
   "execution_count": 14,
   "metadata": {
    "scrolled": true
   },
   "outputs": [
    {
     "name": "stdout",
     "output_type": "stream",
     "text": [
      "cat: write error: Broken pipe\r\n",
      "46\r\n"
     ]
    }
   ],
   "source": [
    "!cat optd_por_public.csv | head -n 1 | tr \"^\" \"\\n\" | wc -l"
   ]
  },
  {
   "cell_type": "markdown",
   "metadata": {},
   "source": [
    "- Imprima los nombres de columna de optd_por_public.csv junto con su número de columna."
   ]
  },
  {
   "cell_type": "code",
   "execution_count": 19,
   "metadata": {},
   "outputs": [
    {
     "name": "stdout",
     "output_type": "stream",
     "text": [
      "cat: write error: Broken pipe\n",
      "1\tiata_code\n",
      "2\ticao_code\n",
      "3\tfaa_code\n",
      "4\tis_geonames\n",
      "5\tgeoname_id\n",
      "6\tenvelope_id\n",
      "7\tname\n",
      "8\tasciiname\n",
      "9\tlatitude\n",
      "10\tlongitude\n"
     ]
    }
   ],
   "source": [
    "!seq 46 > a;\n",
    "!cat optd_por_public.csv | head -n 1 | tr \"^\" \"\\n\" > b;\n",
    "!paste  a b | head -n 10;"
   ]
  },
  {
   "cell_type": "markdown",
   "metadata": {},
   "source": [
    "- ¿Utiliza optd_airlines.csv para obtener la aerolínea con más vuelos?"
   ]
  },
  {
   "cell_type": "code",
   "execution_count": 43,
   "metadata": {
    "scrolled": true
   },
   "outputs": [
    {
     "name": "stdout",
     "output_type": "stream",
     "text": [
      "AccesRail^1467079\r\n"
     ]
    }
   ],
   "source": [
    "!cut -d \"^\" -f 8,14 optd_airlines.csv | sort -t \"^\" -k 2nr,2 | head -n 1"
   ]
  },
  {
   "cell_type": "code",
   "execution_count": 48,
   "metadata": {},
   "outputs": [
    {
     "name": "stdout",
     "output_type": "stream",
     "text": [
      "cat: write error: Broken pipe\r\n",
      "pk\r\n",
      "env_id\r\n",
      "validity_from\r\n",
      "validity_to\r\n",
      "3char_code\r\n",
      "2char_code\r\n",
      "num_code\r\n",
      "name\r\n",
      "name2\r\n",
      "alliance_code\r\n",
      "alliance_status\r\n",
      "type\r\n",
      "wiki_link\r\n",
      "flt_freq\r\n"
     ]
    }
   ],
   "source": [
    "!cat optd_airlines.csv | head -n 1 | tr \"^\" \"\\n\""
   ]
  },
  {
   "cell_type": "markdown",
   "metadata": {},
   "source": [
    "- ¿Utiliza optd_airlines.csv para obtener el número de aerolíneas en cada alianza?"
   ]
  },
  {
   "cell_type": "code",
   "execution_count": 62,
   "metadata": {},
   "outputs": [
    {
     "name": "stdout",
     "output_type": "stream",
     "text": [
      "   1158 \r\n",
      "     37 OneWorld\r\n",
      "     33 Star Alliance\r\n",
      "     25 Skyteam\r\n",
      "      1 alliance_code\r\n"
     ]
    }
   ],
   "source": [
    "!cut -d \"^\" -f 10 optd_airlines.csv | sort | uniq -c | sort -nr | head"
   ]
  },
  {
   "cell_type": "code",
   "execution_count": null,
   "metadata": {},
   "outputs": [],
   "source": []
  }
 ],
 "metadata": {
  "kernelspec": {
   "display_name": "Python 3",
   "language": "python",
   "name": "python3"
  },
  "language_info": {
   "codemirror_mode": {
    "name": "ipython",
    "version": 3
   },
   "file_extension": ".py",
   "mimetype": "text/x-python",
   "name": "python",
   "nbconvert_exporter": "python",
   "pygments_lexer": "ipython3",
   "version": "3.6.4"
  }
 },
 "nbformat": 4,
 "nbformat_minor": 2
}
